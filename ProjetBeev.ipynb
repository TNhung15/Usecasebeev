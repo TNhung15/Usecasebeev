{
 "cells": [
  {
   "cell_type": "markdown",
   "id": "5d451d28",
   "metadata": {},
   "source": [
    "# Projet_Beev: NGHIEM Thi Nhung"
   ]
  },
  {
   "cell_type": "markdown",
   "id": "f89e858b",
   "metadata": {},
   "source": [
    "## Question 2: Read file csv"
   ]
  },
  {
   "cell_type": "code",
   "execution_count": 1,
   "id": "773cafc8",
   "metadata": {},
   "outputs": [
    {
     "name": "stdout",
     "output_type": "stream",
     "text": [
      "CSV Content:\n",
      "           Make     Model  Year  Price Engine Type\n",
      "0          Fiat      Tipo  2013  53000    Electric\n",
      "1          Fiat      Tipo  2020  49000    Electric\n",
      "2          Audi        Q5  2022  39000     Thermal\n",
      "3      Vauxhall     Astra  2011  36000     Thermal\n",
      "4        Jaguar        XF  2013  23000     Thermal\n",
      "..          ...       ...   ...    ...         ...\n",
      "495  Volkswagen    Tiguan  2014  25000    Electric\n",
      "496        Ford   Mustang  2010  35000    Electric\n",
      "497     Hyundai  Palisade  2018  35000    Electric\n",
      "498         Kia      Soul  2016  52000     Thermal\n",
      "499       Lexus        NX  2011  66000     Thermal\n",
      "\n",
      "[500 rows x 5 columns]\n"
     ]
    }
   ],
   "source": [
    "import pandas as pd\n",
    "\n",
    "def read_csv(file_path):\n",
    "    try:\n",
    "        df = pd.read_csv(file_path)\n",
    "\n",
    "        print(\"CSV Content:\")\n",
    "        print(df)\n",
    "        return df\n",
    "    \n",
    "    except Exception as e:\n",
    "        print(f\"Error: {e}\")\n",
    "        return None\n",
    "\n",
    "file = r\"C:\\Users\\nghie\\OneDrive\\Desktop\\Projet_Beev\\car_data.csv\"\n",
    "car_data = read_csv(file)"
   ]
  },
  {
   "cell_type": "code",
   "execution_count": 2,
   "id": "0aa9dd62",
   "metadata": {},
   "outputs": [
    {
     "name": "stdout",
     "output_type": "stream",
     "text": [
      "CSV Content:\n",
      "        Country     Make     Model  Year  Review Score  Sales Volume\n",
      "0       Germany  Porsche        XF  2017           2.3          8638\n",
      "1           USA  Porsche        XF  2017           2.1         17116\n",
      "2       Germany  Porsche        XF  2011           1.2         11645\n",
      "3           USA  Porsche        XF  2011           2.0          9441\n",
      "4       Germany  Porsche        XF  2021           4.5          8650\n",
      "...         ...      ...       ...   ...           ...           ...\n",
      "105750  Germany     Audi  7 Series  2010           1.7         17992\n",
      "105751      USA     Audi  7 Series  2010           1.2         16218\n",
      "105752   France     Audi  7 Series  2015           3.5         17209\n",
      "105753  Germany     Audi  7 Series  2015           2.0         13093\n",
      "105754      USA     Audi  7 Series  2015           2.2         14187\n",
      "\n",
      "[105755 rows x 6 columns]\n"
     ]
    }
   ],
   "source": [
    "file2 = r\"C:\\Users\\nghie\\OneDrive\\Desktop\\Projet_Beev\\consumer_data.csv\"\n",
    "consumer_data = read_csv(file2)"
   ]
  },
  {
   "cell_type": "code",
   "execution_count": 3,
   "id": "ee772cfb",
   "metadata": {},
   "outputs": [
    {
     "data": {
      "text/html": [
       "<div>\n",
       "<style scoped>\n",
       "    .dataframe tbody tr th:only-of-type {\n",
       "        vertical-align: middle;\n",
       "    }\n",
       "\n",
       "    .dataframe tbody tr th {\n",
       "        vertical-align: top;\n",
       "    }\n",
       "\n",
       "    .dataframe thead th {\n",
       "        text-align: right;\n",
       "    }\n",
       "</style>\n",
       "<table border=\"1\" class=\"dataframe\">\n",
       "  <thead>\n",
       "    <tr style=\"text-align: right;\">\n",
       "      <th></th>\n",
       "      <th>Make</th>\n",
       "      <th>Model</th>\n",
       "      <th>Year</th>\n",
       "      <th>Price</th>\n",
       "      <th>Engine Type</th>\n",
       "      <th>Country</th>\n",
       "      <th>Review Score</th>\n",
       "      <th>Sales Volume</th>\n",
       "    </tr>\n",
       "  </thead>\n",
       "  <tbody>\n",
       "    <tr>\n",
       "      <th>0</th>\n",
       "      <td>Fiat</td>\n",
       "      <td>Tipo</td>\n",
       "      <td>2013</td>\n",
       "      <td>53000</td>\n",
       "      <td>Electric</td>\n",
       "      <td>France</td>\n",
       "      <td>4.1</td>\n",
       "      <td>2314</td>\n",
       "    </tr>\n",
       "    <tr>\n",
       "      <th>1</th>\n",
       "      <td>Fiat</td>\n",
       "      <td>Tipo</td>\n",
       "      <td>2013</td>\n",
       "      <td>53000</td>\n",
       "      <td>Electric</td>\n",
       "      <td>Germany</td>\n",
       "      <td>4.2</td>\n",
       "      <td>6061</td>\n",
       "    </tr>\n",
       "    <tr>\n",
       "      <th>2</th>\n",
       "      <td>Fiat</td>\n",
       "      <td>Tipo</td>\n",
       "      <td>2013</td>\n",
       "      <td>53000</td>\n",
       "      <td>Electric</td>\n",
       "      <td>USA</td>\n",
       "      <td>4.0</td>\n",
       "      <td>15534</td>\n",
       "    </tr>\n",
       "    <tr>\n",
       "      <th>3</th>\n",
       "      <td>Fiat</td>\n",
       "      <td>Tipo</td>\n",
       "      <td>2020</td>\n",
       "      <td>49000</td>\n",
       "      <td>Electric</td>\n",
       "      <td>France</td>\n",
       "      <td>1.3</td>\n",
       "      <td>10015</td>\n",
       "    </tr>\n",
       "    <tr>\n",
       "      <th>4</th>\n",
       "      <td>Fiat</td>\n",
       "      <td>Tipo</td>\n",
       "      <td>2020</td>\n",
       "      <td>49000</td>\n",
       "      <td>Electric</td>\n",
       "      <td>Germany</td>\n",
       "      <td>2.7</td>\n",
       "      <td>4978</td>\n",
       "    </tr>\n",
       "    <tr>\n",
       "      <th>...</th>\n",
       "      <td>...</td>\n",
       "      <td>...</td>\n",
       "      <td>...</td>\n",
       "      <td>...</td>\n",
       "      <td>...</td>\n",
       "      <td>...</td>\n",
       "      <td>...</td>\n",
       "      <td>...</td>\n",
       "    </tr>\n",
       "    <tr>\n",
       "      <th>1495</th>\n",
       "      <td>Kia</td>\n",
       "      <td>Soul</td>\n",
       "      <td>2016</td>\n",
       "      <td>52000</td>\n",
       "      <td>Thermal</td>\n",
       "      <td>Germany</td>\n",
       "      <td>4.5</td>\n",
       "      <td>16397</td>\n",
       "    </tr>\n",
       "    <tr>\n",
       "      <th>1496</th>\n",
       "      <td>Kia</td>\n",
       "      <td>Soul</td>\n",
       "      <td>2016</td>\n",
       "      <td>52000</td>\n",
       "      <td>Thermal</td>\n",
       "      <td>USA</td>\n",
       "      <td>1.9</td>\n",
       "      <td>14998</td>\n",
       "    </tr>\n",
       "    <tr>\n",
       "      <th>1497</th>\n",
       "      <td>Lexus</td>\n",
       "      <td>NX</td>\n",
       "      <td>2011</td>\n",
       "      <td>66000</td>\n",
       "      <td>Thermal</td>\n",
       "      <td>France</td>\n",
       "      <td>4.5</td>\n",
       "      <td>9454</td>\n",
       "    </tr>\n",
       "    <tr>\n",
       "      <th>1498</th>\n",
       "      <td>Lexus</td>\n",
       "      <td>NX</td>\n",
       "      <td>2011</td>\n",
       "      <td>66000</td>\n",
       "      <td>Thermal</td>\n",
       "      <td>Germany</td>\n",
       "      <td>2.7</td>\n",
       "      <td>14798</td>\n",
       "    </tr>\n",
       "    <tr>\n",
       "      <th>1499</th>\n",
       "      <td>Lexus</td>\n",
       "      <td>NX</td>\n",
       "      <td>2011</td>\n",
       "      <td>66000</td>\n",
       "      <td>Thermal</td>\n",
       "      <td>USA</td>\n",
       "      <td>2.0</td>\n",
       "      <td>9416</td>\n",
       "    </tr>\n",
       "  </tbody>\n",
       "</table>\n",
       "<p>1500 rows × 8 columns</p>\n",
       "</div>"
      ],
      "text/plain": [
       "       Make Model  Year  Price Engine Type  Country  Review Score  \\\n",
       "0      Fiat  Tipo  2013  53000    Electric   France           4.1   \n",
       "1      Fiat  Tipo  2013  53000    Electric  Germany           4.2   \n",
       "2      Fiat  Tipo  2013  53000    Electric      USA           4.0   \n",
       "3      Fiat  Tipo  2020  49000    Electric   France           1.3   \n",
       "4      Fiat  Tipo  2020  49000    Electric  Germany           2.7   \n",
       "...     ...   ...   ...    ...         ...      ...           ...   \n",
       "1495    Kia  Soul  2016  52000     Thermal  Germany           4.5   \n",
       "1496    Kia  Soul  2016  52000     Thermal      USA           1.9   \n",
       "1497  Lexus    NX  2011  66000     Thermal   France           4.5   \n",
       "1498  Lexus    NX  2011  66000     Thermal  Germany           2.7   \n",
       "1499  Lexus    NX  2011  66000     Thermal      USA           2.0   \n",
       "\n",
       "      Sales Volume  \n",
       "0             2314  \n",
       "1             6061  \n",
       "2            15534  \n",
       "3            10015  \n",
       "4             4978  \n",
       "...            ...  \n",
       "1495         16397  \n",
       "1496         14998  \n",
       "1497          9454  \n",
       "1498         14798  \n",
       "1499          9416  \n",
       "\n",
       "[1500 rows x 8 columns]"
      ]
     },
     "execution_count": 3,
     "metadata": {},
     "output_type": "execute_result"
    }
   ],
   "source": [
    "merged_df = pd.merge(car_data, consumer_data, on=['Make', 'Model', 'Year'], how='inner')\n",
    "merged_df"
   ]
  },
  {
   "cell_type": "code",
   "execution_count": 4,
   "id": "ebe7fe4f",
   "metadata": {},
   "outputs": [
    {
     "data": {
      "text/html": [
       "<div>\n",
       "<style scoped>\n",
       "    .dataframe tbody tr th:only-of-type {\n",
       "        vertical-align: middle;\n",
       "    }\n",
       "\n",
       "    .dataframe tbody tr th {\n",
       "        vertical-align: top;\n",
       "    }\n",
       "\n",
       "    .dataframe thead th {\n",
       "        text-align: right;\n",
       "    }\n",
       "</style>\n",
       "<table border=\"1\" class=\"dataframe\">\n",
       "  <thead>\n",
       "    <tr style=\"text-align: right;\">\n",
       "      <th></th>\n",
       "      <th>Make</th>\n",
       "      <th>Model</th>\n",
       "      <th>Year</th>\n",
       "      <th>Price</th>\n",
       "      <th>Engine Type</th>\n",
       "      <th>Country</th>\n",
       "      <th>Review Score</th>\n",
       "      <th>Sales Volume</th>\n",
       "    </tr>\n",
       "  </thead>\n",
       "  <tbody>\n",
       "    <tr>\n",
       "      <th>0</th>\n",
       "      <td>Fiat</td>\n",
       "      <td>Tipo</td>\n",
       "      <td>2013</td>\n",
       "      <td>53000</td>\n",
       "      <td>Electric</td>\n",
       "      <td>France</td>\n",
       "      <td>4.1</td>\n",
       "      <td>2314</td>\n",
       "    </tr>\n",
       "    <tr>\n",
       "      <th>1</th>\n",
       "      <td>Fiat</td>\n",
       "      <td>Tipo</td>\n",
       "      <td>2013</td>\n",
       "      <td>53000</td>\n",
       "      <td>Electric</td>\n",
       "      <td>Germany</td>\n",
       "      <td>4.2</td>\n",
       "      <td>6061</td>\n",
       "    </tr>\n",
       "    <tr>\n",
       "      <th>2</th>\n",
       "      <td>Fiat</td>\n",
       "      <td>Tipo</td>\n",
       "      <td>2013</td>\n",
       "      <td>53000</td>\n",
       "      <td>Electric</td>\n",
       "      <td>USA</td>\n",
       "      <td>4.0</td>\n",
       "      <td>15534</td>\n",
       "    </tr>\n",
       "    <tr>\n",
       "      <th>3</th>\n",
       "      <td>Fiat</td>\n",
       "      <td>Tipo</td>\n",
       "      <td>2020</td>\n",
       "      <td>49000</td>\n",
       "      <td>Electric</td>\n",
       "      <td>France</td>\n",
       "      <td>1.3</td>\n",
       "      <td>10015</td>\n",
       "    </tr>\n",
       "    <tr>\n",
       "      <th>4</th>\n",
       "      <td>Fiat</td>\n",
       "      <td>Tipo</td>\n",
       "      <td>2020</td>\n",
       "      <td>49000</td>\n",
       "      <td>Electric</td>\n",
       "      <td>Germany</td>\n",
       "      <td>2.7</td>\n",
       "      <td>4978</td>\n",
       "    </tr>\n",
       "    <tr>\n",
       "      <th>...</th>\n",
       "      <td>...</td>\n",
       "      <td>...</td>\n",
       "      <td>...</td>\n",
       "      <td>...</td>\n",
       "      <td>...</td>\n",
       "      <td>...</td>\n",
       "      <td>...</td>\n",
       "      <td>...</td>\n",
       "    </tr>\n",
       "    <tr>\n",
       "      <th>1495</th>\n",
       "      <td>Kia</td>\n",
       "      <td>Soul</td>\n",
       "      <td>2016</td>\n",
       "      <td>52000</td>\n",
       "      <td>Thermal</td>\n",
       "      <td>Germany</td>\n",
       "      <td>4.5</td>\n",
       "      <td>16397</td>\n",
       "    </tr>\n",
       "    <tr>\n",
       "      <th>1496</th>\n",
       "      <td>Kia</td>\n",
       "      <td>Soul</td>\n",
       "      <td>2016</td>\n",
       "      <td>52000</td>\n",
       "      <td>Thermal</td>\n",
       "      <td>USA</td>\n",
       "      <td>1.9</td>\n",
       "      <td>14998</td>\n",
       "    </tr>\n",
       "    <tr>\n",
       "      <th>1497</th>\n",
       "      <td>Lexus</td>\n",
       "      <td>NX</td>\n",
       "      <td>2011</td>\n",
       "      <td>66000</td>\n",
       "      <td>Thermal</td>\n",
       "      <td>France</td>\n",
       "      <td>4.5</td>\n",
       "      <td>9454</td>\n",
       "    </tr>\n",
       "    <tr>\n",
       "      <th>1498</th>\n",
       "      <td>Lexus</td>\n",
       "      <td>NX</td>\n",
       "      <td>2011</td>\n",
       "      <td>66000</td>\n",
       "      <td>Thermal</td>\n",
       "      <td>Germany</td>\n",
       "      <td>2.7</td>\n",
       "      <td>14798</td>\n",
       "    </tr>\n",
       "    <tr>\n",
       "      <th>1499</th>\n",
       "      <td>Lexus</td>\n",
       "      <td>NX</td>\n",
       "      <td>2011</td>\n",
       "      <td>66000</td>\n",
       "      <td>Thermal</td>\n",
       "      <td>USA</td>\n",
       "      <td>2.0</td>\n",
       "      <td>9416</td>\n",
       "    </tr>\n",
       "  </tbody>\n",
       "</table>\n",
       "<p>1500 rows × 8 columns</p>\n",
       "</div>"
      ],
      "text/plain": [
       "       Make Model  Year  Price Engine Type  Country  Review Score  \\\n",
       "0      Fiat  Tipo  2013  53000    Electric   France           4.1   \n",
       "1      Fiat  Tipo  2013  53000    Electric  Germany           4.2   \n",
       "2      Fiat  Tipo  2013  53000    Electric      USA           4.0   \n",
       "3      Fiat  Tipo  2020  49000    Electric   France           1.3   \n",
       "4      Fiat  Tipo  2020  49000    Electric  Germany           2.7   \n",
       "...     ...   ...   ...    ...         ...      ...           ...   \n",
       "1495    Kia  Soul  2016  52000     Thermal  Germany           4.5   \n",
       "1496    Kia  Soul  2016  52000     Thermal      USA           1.9   \n",
       "1497  Lexus    NX  2011  66000     Thermal   France           4.5   \n",
       "1498  Lexus    NX  2011  66000     Thermal  Germany           2.7   \n",
       "1499  Lexus    NX  2011  66000     Thermal      USA           2.0   \n",
       "\n",
       "      Sales Volume  \n",
       "0             2314  \n",
       "1             6061  \n",
       "2            15534  \n",
       "3            10015  \n",
       "4             4978  \n",
       "...            ...  \n",
       "1495         16397  \n",
       "1496         14998  \n",
       "1497          9454  \n",
       "1498         14798  \n",
       "1499          9416  \n",
       "\n",
       "[1500 rows x 8 columns]"
      ]
     },
     "execution_count": 4,
     "metadata": {},
     "output_type": "execute_result"
    }
   ],
   "source": [
    "merged_df.to_csv('merged_file.csv', index=False)\n",
    "merged_df"
   ]
  },
  {
   "cell_type": "code",
   "execution_count": 8,
   "id": "c831731a",
   "metadata": {},
   "outputs": [
    {
     "data": {
      "text/plain": [
       "Make            0\n",
       "Model           0\n",
       "Year            0\n",
       "Price           0\n",
       "Engine Type     0\n",
       "Country         0\n",
       "Review Score    0\n",
       "Sales Volume    0\n",
       "dtype: int64"
      ]
     },
     "execution_count": 8,
     "metadata": {},
     "output_type": "execute_result"
    }
   ],
   "source": [
    "merged_df.isna().sum()"
   ]
  },
  {
   "cell_type": "code",
   "execution_count": 9,
   "id": "d73a373b",
   "metadata": {},
   "outputs": [
    {
     "name": "stdout",
     "output_type": "stream",
     "text": [
      "       Make  Model   Year  Price  Engine Type  Country  Review Score  \\\n",
      "0     False  False  False  False        False    False         False   \n",
      "1     False  False  False  False        False    False         False   \n",
      "2     False  False  False  False        False    False         False   \n",
      "3     False  False  False  False        False    False         False   \n",
      "4     False  False  False  False        False    False         False   \n",
      "...     ...    ...    ...    ...          ...      ...           ...   \n",
      "1495  False  False  False  False        False    False         False   \n",
      "1496  False  False  False  False        False    False         False   \n",
      "1497  False  False  False  False        False    False         False   \n",
      "1498  False  False  False  False        False    False         False   \n",
      "1499  False  False  False  False        False    False         False   \n",
      "\n",
      "      Sales Volume  \n",
      "0            False  \n",
      "1            False  \n",
      "2            False  \n",
      "3            False  \n",
      "4            False  \n",
      "...            ...  \n",
      "1495         False  \n",
      "1496         False  \n",
      "1497         False  \n",
      "1498         False  \n",
      "1499         False  \n",
      "\n",
      "[1500 rows x 8 columns]\n"
     ]
    }
   ],
   "source": [
    "na_merge=merged_df.isna()\n",
    "print(na_merge)"
   ]
  },
  {
   "cell_type": "code",
   "execution_count": 8,
   "id": "d99c1d1f",
   "metadata": {},
   "outputs": [
    {
     "data": {
      "image/png": "[encoded data removed]",
      "text/plain": [
       "<Figure size 600x400 with 1 Axes>"
      ]
     },
     "metadata": {},
     "output_type": "display_data"
    }
   ],
   "source": [
    "import matplotlib.pyplot as plt\n",
    "import seaborn as sns\n",
    "plt.figure(figsize=(6, 4))\n",
    "sns.boxplot(y='Price',data=merged_df)\n",
    "plt.title(\"Box Plot de variable Price\")\n",
    "plt.show()"
   ]
  },
  {
   "cell_type": "code",
   "execution_count": 10,
   "id": "610e6792",
   "metadata": {},
   "outputs": [
    {
     "data": {
      "image/png": "[encoded data removed]",
      "text/plain": [
       "<Figure size 600x400 with 1 Axes>"
      ]
     },
     "metadata": {},
     "output_type": "display_data"
    }
   ],
   "source": [
    "import matplotlib.pyplot as plt\n",
    "import seaborn as sns\n",
    "plt.figure(figsize=(6, 4))\n",
    "sns.boxplot(y='Review Score',data=merged_df)\n",
    "plt.title(\"Box Plot de variable Review Score\")\n",
    "plt.show()"
   ]
  },
  {
   "cell_type": "code",
   "execution_count": 11,
   "id": "02bbc300",
   "metadata": {},
   "outputs": [
    {
     "data": {
      "image/png": "[encoded data removed]",
      "text/plain": [
       "<Figure size 600x400 with 1 Axes>"
      ]
     },
     "metadata": {},
     "output_type": "display_data"
    }
   ],
   "source": [
    "import matplotlib.pyplot as plt\n",
    "import seaborn as sns\n",
    "plt.figure(figsize=(6, 4))\n",
    "sns.boxplot(y='Sales Volume',data=merged_df)\n",
    "plt.title(\"Box Plot de variable Sales Volume\")\n",
    "plt.show()"
   ]
  },
  {
   "cell_type": "markdown",
   "id": "823ad379",
   "metadata": {},
   "source": [
    "Grâce au graphique \"boxplot\", nous voyons qu'il n'y a pas de valeurs aberrants dans les données. Par conséquent, nous n'avons pas besoin d'étapes pour gérer les valeurs NA ou les valeurs aberrantes."
   ]
  },
  {
   "cell_type": "markdown",
   "id": "bd5ac36d",
   "metadata": {},
   "source": [
    "## Question 3"
   ]
  },
  {
   "cell_type": "markdown",
   "id": "ec65af3a",
   "metadata": {},
   "source": [
    "### 3-a: Find the total number of cars by model by country."
   ]
  },
  {
   "cell_type": "code",
   "execution_count": 5,
   "id": "452faf1a",
   "metadata": {},
   "outputs": [
    {
     "data": {
      "text/html": [
       "<div>\n",
       "<style scoped>\n",
       "    .dataframe tbody tr th:only-of-type {\n",
       "        vertical-align: middle;\n",
       "    }\n",
       "\n",
       "    .dataframe tbody tr th {\n",
       "        vertical-align: top;\n",
       "    }\n",
       "\n",
       "    .dataframe thead th {\n",
       "        text-align: right;\n",
       "    }\n",
       "</style>\n",
       "<table border=\"1\" class=\"dataframe\">\n",
       "  <thead>\n",
       "    <tr style=\"text-align: right;\">\n",
       "      <th></th>\n",
       "      <th>Model</th>\n",
       "      <th>Country</th>\n",
       "      <th>Review Score</th>\n",
       "    </tr>\n",
       "  </thead>\n",
       "  <tbody>\n",
       "    <tr>\n",
       "      <th>0</th>\n",
       "      <td>124 Spider</td>\n",
       "      <td>France</td>\n",
       "      <td>[4.6, 1.6, 2.8, 3.2, 2.1, 2.6, 3.2]</td>\n",
       "    </tr>\n",
       "    <tr>\n",
       "      <th>1</th>\n",
       "      <td>124 Spider</td>\n",
       "      <td>Germany</td>\n",
       "      <td>[3.9, 2.9, 4.1, 1.7, 2.6, 3.8, 2.3]</td>\n",
       "    </tr>\n",
       "    <tr>\n",
       "      <th>2</th>\n",
       "      <td>124 Spider</td>\n",
       "      <td>USA</td>\n",
       "      <td>[4.7, 4.2, 1.7, 2.2, 3.0, 4.5, 2.1]</td>\n",
       "    </tr>\n",
       "    <tr>\n",
       "      <th>3</th>\n",
       "      <td>3 Series</td>\n",
       "      <td>France</td>\n",
       "      <td>[1.8, 2.5, 1.5, 4.6]</td>\n",
       "    </tr>\n",
       "    <tr>\n",
       "      <th>4</th>\n",
       "      <td>3 Series</td>\n",
       "      <td>Germany</td>\n",
       "      <td>[4.1, 2.0, 2.3, 4.8]</td>\n",
       "    </tr>\n",
       "    <tr>\n",
       "      <th>...</th>\n",
       "      <td>...</td>\n",
       "      <td>...</td>\n",
       "      <td>...</td>\n",
       "    </tr>\n",
       "    <tr>\n",
       "      <th>334</th>\n",
       "      <td>XF</td>\n",
       "      <td>Germany</td>\n",
       "      <td>[3.1, 1.6, 3.6, 4.2]</td>\n",
       "    </tr>\n",
       "    <tr>\n",
       "      <th>335</th>\n",
       "      <td>XF</td>\n",
       "      <td>USA</td>\n",
       "      <td>[3.7, 4.5, 4.6, 2.2]</td>\n",
       "    </tr>\n",
       "    <tr>\n",
       "      <th>336</th>\n",
       "      <td>e-tron</td>\n",
       "      <td>France</td>\n",
       "      <td>[2.8, 4.2]</td>\n",
       "    </tr>\n",
       "    <tr>\n",
       "      <th>337</th>\n",
       "      <td>e-tron</td>\n",
       "      <td>Germany</td>\n",
       "      <td>[1.7, 1.2]</td>\n",
       "    </tr>\n",
       "    <tr>\n",
       "      <th>338</th>\n",
       "      <td>e-tron</td>\n",
       "      <td>USA</td>\n",
       "      <td>[2.7, 4.6]</td>\n",
       "    </tr>\n",
       "  </tbody>\n",
       "</table>\n",
       "<p>339 rows × 3 columns</p>\n",
       "</div>"
      ],
      "text/plain": [
       "          Model  Country                         Review Score\n",
       "0    124 Spider   France  [4.6, 1.6, 2.8, 3.2, 2.1, 2.6, 3.2]\n",
       "1    124 Spider  Germany  [3.9, 2.9, 4.1, 1.7, 2.6, 3.8, 2.3]\n",
       "2    124 Spider      USA  [4.7, 4.2, 1.7, 2.2, 3.0, 4.5, 2.1]\n",
       "3      3 Series   France                 [1.8, 2.5, 1.5, 4.6]\n",
       "4      3 Series  Germany                 [4.1, 2.0, 2.3, 4.8]\n",
       "..          ...      ...                                  ...\n",
       "334          XF  Germany                 [3.1, 1.6, 3.6, 4.2]\n",
       "335          XF      USA                 [3.7, 4.5, 4.6, 2.2]\n",
       "336      e-tron   France                           [2.8, 4.2]\n",
       "337      e-tron  Germany                           [1.7, 1.2]\n",
       "338      e-tron      USA                           [2.7, 4.6]\n",
       "\n",
       "[339 rows x 3 columns]"
      ]
     },
     "execution_count": 5,
     "metadata": {},
     "output_type": "execute_result"
    }
   ],
   "source": [
    "grouped_merged_item_cat_df = merged_df.groupby(\n",
    "   by=['Model','Country']).agg({'Review Score':list}).reset_index()\n",
    "grouped_merged_item_cat_df"
   ]
  },
  {
   "cell_type": "code",
   "execution_count": 16,
   "id": "84afb42a",
   "metadata": {},
   "outputs": [
    {
     "name": "stdout",
     "output_type": "stream",
     "text": [
      "          Model  Country  Total Cars\n",
      "0    124 Spider   France           7\n",
      "1    124 Spider  Germany           7\n",
      "2    124 Spider      USA           7\n",
      "3      3 Series   France           4\n",
      "4      3 Series  Germany           4\n",
      "..          ...      ...         ...\n",
      "334          XF  Germany           4\n",
      "335          XF      USA           4\n",
      "336      e-tron   France           2\n",
      "337      e-tron  Germany           2\n",
      "338      e-tron      USA           2\n",
      "\n",
      "[339 rows x 3 columns]\n"
     ]
    }
   ],
   "source": [
    "total_cars_by_model_country = merged_df.groupby(['Model', 'Country'])['Country'].count().reset_index(name='Total Cars')\n",
    "\n",
    "print(total_cars_by_model_country)"
   ]
  },
  {
   "cell_type": "code",
   "execution_count": 6,
   "id": "a251150d",
   "metadata": {},
   "outputs": [
    {
     "data": {
      "text/html": [
       "<div>\n",
       "<style scoped>\n",
       "    .dataframe tbody tr th:only-of-type {\n",
       "        vertical-align: middle;\n",
       "    }\n",
       "\n",
       "    .dataframe tbody tr th {\n",
       "        vertical-align: top;\n",
       "    }\n",
       "\n",
       "    .dataframe thead th {\n",
       "        text-align: right;\n",
       "    }\n",
       "</style>\n",
       "<table border=\"1\" class=\"dataframe\">\n",
       "  <thead>\n",
       "    <tr style=\"text-align: right;\">\n",
       "      <th></th>\n",
       "      <th>Model</th>\n",
       "      <th>Country</th>\n",
       "      <th>Car Count</th>\n",
       "    </tr>\n",
       "  </thead>\n",
       "  <tbody>\n",
       "    <tr>\n",
       "      <th>0</th>\n",
       "      <td>124 Spider</td>\n",
       "      <td>France</td>\n",
       "      <td>7</td>\n",
       "    </tr>\n",
       "    <tr>\n",
       "      <th>1</th>\n",
       "      <td>124 Spider</td>\n",
       "      <td>Germany</td>\n",
       "      <td>7</td>\n",
       "    </tr>\n",
       "    <tr>\n",
       "      <th>2</th>\n",
       "      <td>124 Spider</td>\n",
       "      <td>USA</td>\n",
       "      <td>7</td>\n",
       "    </tr>\n",
       "    <tr>\n",
       "      <th>3</th>\n",
       "      <td>3 Series</td>\n",
       "      <td>France</td>\n",
       "      <td>4</td>\n",
       "    </tr>\n",
       "    <tr>\n",
       "      <th>4</th>\n",
       "      <td>3 Series</td>\n",
       "      <td>Germany</td>\n",
       "      <td>4</td>\n",
       "    </tr>\n",
       "    <tr>\n",
       "      <th>...</th>\n",
       "      <td>...</td>\n",
       "      <td>...</td>\n",
       "      <td>...</td>\n",
       "    </tr>\n",
       "    <tr>\n",
       "      <th>334</th>\n",
       "      <td>XF</td>\n",
       "      <td>Germany</td>\n",
       "      <td>4</td>\n",
       "    </tr>\n",
       "    <tr>\n",
       "      <th>335</th>\n",
       "      <td>XF</td>\n",
       "      <td>USA</td>\n",
       "      <td>4</td>\n",
       "    </tr>\n",
       "    <tr>\n",
       "      <th>336</th>\n",
       "      <td>e-tron</td>\n",
       "      <td>France</td>\n",
       "      <td>2</td>\n",
       "    </tr>\n",
       "    <tr>\n",
       "      <th>337</th>\n",
       "      <td>e-tron</td>\n",
       "      <td>Germany</td>\n",
       "      <td>2</td>\n",
       "    </tr>\n",
       "    <tr>\n",
       "      <th>338</th>\n",
       "      <td>e-tron</td>\n",
       "      <td>USA</td>\n",
       "      <td>2</td>\n",
       "    </tr>\n",
       "  </tbody>\n",
       "</table>\n",
       "<p>339 rows × 3 columns</p>\n",
       "</div>"
      ],
      "text/plain": [
       "          Model  Country  Car Count\n",
       "0    124 Spider   France          7\n",
       "1    124 Spider  Germany          7\n",
       "2    124 Spider      USA          7\n",
       "3      3 Series   France          4\n",
       "4      3 Series  Germany          4\n",
       "..          ...      ...        ...\n",
       "334          XF  Germany          4\n",
       "335          XF      USA          4\n",
       "336      e-tron   France          2\n",
       "337      e-tron  Germany          2\n",
       "338      e-tron      USA          2\n",
       "\n",
       "[339 rows x 3 columns]"
      ]
     },
     "execution_count": 6,
     "metadata": {},
     "output_type": "execute_result"
    }
   ],
   "source": [
    "car_counts = merged_df.groupby(['Model', 'Country']).size().reset_index(name='Car Count')\n",
    "car_counts"
   ]
  },
  {
   "cell_type": "markdown",
   "id": "f854ce75",
   "metadata": {},
   "source": [
    "Nous pouvons donc constater que les voitures du modèle 124Spider sont les plus vendues sur le marché européen. Parce qu'il s'agit d'un nouveau modèle de voiture italienne au design sportif et élégant, et généralement un cabriolet. De plus, la voiture est également équipée d'un moteur puissant, d'une capacité de 138 chevaux et 240 Nm de couple, ce modèle cabriolet peut accélérer de 0 à 100 km/h en 7,5 secondes, apportant ainsi une efficacité, des performances remarquables et une expérience de conduite agréable."
   ]
  },
  {
   "cell_type": "markdown",
   "id": "ec9980fc",
   "metadata": {},
   "source": [
    "### 3-b: Which country has the most of each model?"
   ]
  },
  {
   "cell_type": "code",
   "execution_count": 7,
   "id": "c09b2f70",
   "metadata": {},
   "outputs": [
    {
     "name": "stdout",
     "output_type": "stream",
     "text": [
      "Country        France\n",
      "Model Count       113\n",
      "Name: 0, dtype: object\n"
     ]
    }
   ],
   "source": [
    "model_counts_by_country = merged_df.groupby('Country')['Model'].nunique().reset_index(name='Model Count')\n",
    "\n",
    "country_most_models = model_counts_by_country.loc[model_counts_by_country['Model Count'].idxmax()]\n",
    "\n",
    "print(country_most_models)"
   ]
  },
  {
   "cell_type": "markdown",
   "id": "85748e0b",
   "metadata": {},
   "source": [
    "On voit donc que la France est le pays qui compte le plus de modèles de voitures. Car il est possible que la politique environnementale et l’accent mis sur les véhicules électriques et respectueux de l’environnement en France favorisent la diversité des modèles de voitures. La France a tendance à se concentrer sur les modèles petits et économes en carburant, alors que les consommateurs américains ont souvent une forte préférence pour les gros véhicules performants, notamment les SUV et les camionnettes."
   ]
  },
  {
   "cell_type": "markdown",
   "id": "6d197625",
   "metadata": {},
   "source": [
    "### 3-c: Any model is sold in the USA but not in France."
   ]
  },
  {
   "cell_type": "code",
   "execution_count": 24,
   "id": "7ba51be5",
   "metadata": {},
   "outputs": [
    {
     "data": {
      "text/plain": [
       "set()"
      ]
     },
     "execution_count": 24,
     "metadata": {},
     "output_type": "execute_result"
    }
   ],
   "source": [
    "models_in_usa_not_in_france = set(merged_df[merged_df['Country'] == 'USA']['Model']) - set(merged_df[merged_df['Country'] == 'France']['Model'])\n",
    "\n",
    "models_in_usa_not_in_france"
   ]
  },
  {
   "cell_type": "code",
   "execution_count": 23,
   "id": "d52b524d",
   "metadata": {},
   "outputs": [
    {
     "name": "stderr",
     "output_type": "stream",
     "text": [
      "C:\\Users\\nghie\\AppData\\Local\\Temp\\ipykernel_9932\\3624025316.py:1: UserWarning: Boolean Series key will be reindexed to match DataFrame index.\n",
      "  models_usa_not_france = consumer_data[consumer_data['Country'] == 'USA'][~consumer_data['Model'].isin(consumer_data[consumer_data['Country'] == 'France']['Model'])]\n"
     ]
    },
    {
     "data": {
      "text/html": [
       "<div>\n",
       "<style scoped>\n",
       "    .dataframe tbody tr th:only-of-type {\n",
       "        vertical-align: middle;\n",
       "    }\n",
       "\n",
       "    .dataframe tbody tr th {\n",
       "        vertical-align: top;\n",
       "    }\n",
       "\n",
       "    .dataframe thead th {\n",
       "        text-align: right;\n",
       "    }\n",
       "</style>\n",
       "<table border=\"1\" class=\"dataframe\">\n",
       "  <thead>\n",
       "    <tr style=\"text-align: right;\">\n",
       "      <th></th>\n",
       "      <th>Model</th>\n",
       "      <th>Country</th>\n",
       "    </tr>\n",
       "  </thead>\n",
       "  <tbody>\n",
       "  </tbody>\n",
       "</table>\n",
       "</div>"
      ],
      "text/plain": [
       "Empty DataFrame\n",
       "Columns: [Model, Country]\n",
       "Index: []"
      ]
     },
     "execution_count": 23,
     "metadata": {},
     "output_type": "execute_result"
    }
   ],
   "source": [
    "models_usa_not_france = consumer_data[consumer_data['Country'] == 'USA'][~consumer_data['Model'].isin(consumer_data[consumer_data['Country'] == 'France']['Model'])]\n",
    "\n",
    "models_usa_not_france[['Model', 'Country']]"
   ]
  },
  {
   "cell_type": "markdown",
   "id": "e9b42519",
   "metadata": {},
   "source": [
    "On voit donc qu'il n'existe aucun modèle vendu aux USA qui ne soit vendu en France. Ceci est cohérent avec la diversité des modèles en France que nous avons analysés plus haut."
   ]
  },
  {
   "cell_type": "markdown",
   "id": "b175ca19",
   "metadata": {},
   "source": [
    "### 3-d: how much the average car costs in every country by engine type."
   ]
  },
  {
   "cell_type": "code",
   "execution_count": 17,
   "id": "d7b8f133",
   "metadata": {},
   "outputs": [
    {
     "data": {
      "text/html": [
       "<div>\n",
       "<style scoped>\n",
       "    .dataframe tbody tr th:only-of-type {\n",
       "        vertical-align: middle;\n",
       "    }\n",
       "\n",
       "    .dataframe tbody tr th {\n",
       "        vertical-align: top;\n",
       "    }\n",
       "\n",
       "    .dataframe thead th {\n",
       "        text-align: right;\n",
       "    }\n",
       "</style>\n",
       "<table border=\"1\" class=\"dataframe\">\n",
       "  <thead>\n",
       "    <tr style=\"text-align: right;\">\n",
       "      <th></th>\n",
       "      <th>Country</th>\n",
       "      <th>Engine Type</th>\n",
       "      <th>Average Price</th>\n",
       "    </tr>\n",
       "  </thead>\n",
       "  <tbody>\n",
       "    <tr>\n",
       "      <th>0</th>\n",
       "      <td>France</td>\n",
       "      <td>Electric</td>\n",
       "      <td>50216.0</td>\n",
       "    </tr>\n",
       "    <tr>\n",
       "      <th>1</th>\n",
       "      <td>France</td>\n",
       "      <td>Thermal</td>\n",
       "      <td>51072.0</td>\n",
       "    </tr>\n",
       "    <tr>\n",
       "      <th>2</th>\n",
       "      <td>Germany</td>\n",
       "      <td>Electric</td>\n",
       "      <td>50216.0</td>\n",
       "    </tr>\n",
       "    <tr>\n",
       "      <th>3</th>\n",
       "      <td>Germany</td>\n",
       "      <td>Thermal</td>\n",
       "      <td>51072.0</td>\n",
       "    </tr>\n",
       "    <tr>\n",
       "      <th>4</th>\n",
       "      <td>USA</td>\n",
       "      <td>Electric</td>\n",
       "      <td>50216.0</td>\n",
       "    </tr>\n",
       "    <tr>\n",
       "      <th>5</th>\n",
       "      <td>USA</td>\n",
       "      <td>Thermal</td>\n",
       "      <td>51072.0</td>\n",
       "    </tr>\n",
       "  </tbody>\n",
       "</table>\n",
       "</div>"
      ],
      "text/plain": [
       "   Country Engine Type  Average Price\n",
       "0   France    Electric        50216.0\n",
       "1   France     Thermal        51072.0\n",
       "2  Germany    Electric        50216.0\n",
       "3  Germany     Thermal        51072.0\n",
       "4      USA    Electric        50216.0\n",
       "5      USA     Thermal        51072.0"
      ]
     },
     "execution_count": 17,
     "metadata": {},
     "output_type": "execute_result"
    }
   ],
   "source": [
    "# Calculez le prix moyen de chaque voiture dans chaque pays par type de moteur\n",
    "average_price_by_country_engine = merged_df.groupby(['Country', 'Engine Type'])['Price'].mean().reset_index(name='Average Price')\n",
    "\n",
    "average_price_by_country_engine"
   ]
  },
  {
   "cell_type": "code",
   "execution_count": 25,
   "id": "4931499b",
   "metadata": {},
   "outputs": [
    {
     "data": {
      "image/png": "[encoded data removed]",
      "text/plain": [
       "<Figure size 2000x500 with 1 Axes>"
      ]
     },
     "metadata": {},
     "output_type": "display_data"
    }
   ],
   "source": [
    "plt.figure(figsize=(20, 5))   # Ajuste la taille du graphique\n",
    "sns.barplot(x='Engine Type', y='Price', data=merged_df, hue='Country') #hue='channel_type' :attribue différentes couleurs aux barres en fonction de la colonne 'channel_type'\n",
    "plt.show()"
   ]
  },
  {
   "cell_type": "markdown",
   "id": "80ab437c",
   "metadata": {},
   "source": [
    "### 3-e: We want to know the average ratings of electric cars vs thermal cars"
   ]
  },
  {
   "cell_type": "code",
   "execution_count": 14,
   "id": "a0027902",
   "metadata": {},
   "outputs": [
    {
     "name": "stdout",
     "output_type": "stream",
     "text": [
      "  Engine Type  Average Ratings\n",
      "0    Electric         2.980533\n",
      "1     Thermal         3.010667\n"
     ]
    }
   ],
   "source": [
    "average_ratings = merged_df.groupby('Engine Type')['Review Score'].mean().reset_index(name='Average Ratings')\n",
    "\n",
    "print(average_ratings)"
   ]
  },
  {
   "cell_type": "markdown",
   "id": "de775307",
   "metadata": {},
   "source": [
    "Nous constatons que les moteurs électriques (Electric) sont toujours mieux notés que les moteurs thermiques (Thermal) en raison d'un certain nombre d'avantages importants comme suit :\n",
    "- Premièrement : les moteurs électriques ont un rendement énergétique supérieur à celui des moteurs thermiques traditionnels. Dans le système électrique, l'énergie n'est pas autant gaspillée que dans le système thermique, ce qui réduit la consommation d'énergie et augmente les performances globales du véhicule.\n",
    "- Deuxièmement : les moteurs électriques ne créent pas d'émissions directes pendant leur fonctionnement, ce qui contribue à réduire les impacts négatifs sur l'environnement et la santé humaine.\n",
    "- Troisièmement : Faible bruit : Comparés à de nombreux moteurs thermiques, les moteurs électriques fonctionnent souvent avec moins de bruit. Cela rend non seulement l’expérience de conduite plus fluide, mais réduit également la pollution sonore dans l’environnement.\n",
    "- Enfin, favoriser le développement technologique : La transition des moteurs thermiques vers les moteurs électriques favorise le développement de la technologie automobile et de l'industrie électronique. Cela pourrait entraîner des innovations significatives dans des domaines tels que le stockage de l’énergie, la technologie des batteries et les systèmes de contrôle."
   ]
  },
  {
   "cell_type": "markdown",
   "id": "ef760819",
   "metadata": {},
   "source": [
    "## Question 4: return a graph that would show the amount of electric vs thermal cars sold per year."
   ]
  },
  {
   "cell_type": "code",
   "execution_count": 11,
   "id": "5b53fc0a",
   "metadata": {},
   "outputs": [
    {
     "data": {
      "image/png": "[encoded data removed]",
      "text/plain": [
       "<Figure size 640x480 with 1 Axes>"
      ]
     },
     "metadata": {},
     "output_type": "display_data"
    }
   ],
   "source": [
    "import matplotlib.pyplot as plt\n",
    "import seaborn as sns\n",
    "%matplotlib inline\n",
    "sns.barplot(data=merged_df, x='Year', y='Sales Volume', hue='Engine Type');"
   ]
  },
  {
   "cell_type": "markdown",
   "id": "42f14662",
   "metadata": {},
   "source": [
    "On constate que les moteurs de véhicules électriques ont toujours été plus vendus que les moteurs thermiques au fil des années, notamment en 2020 et 2021. On sait que selon des rapports réels durant ces 2 années de pandémie de Covid, les ventes d'automobiles Les ventes mondiales d'automobiles ont diminué mais les ventes électriques mondiales ont diminué. les ventes de voitures ont légèrement augmenté. La raison de cette croissance s’explique par le fait que 2020 est une année cible importante pour les normes d’émissions dans les pays européens. Les politiques d’incitation à l’achat de véhicules électriques dans chaque pays se sont également multipliées, stimulant la demande et aidant les acheteurs à prendre des décisions plus rapides.\n",
    "\n",
    "\n",
    "De nombreux grands marchés tels que la France, l'Italie, l'Allemagne et le Royaume-Uni enregistrent des ventes de voitures électriques nettement plus élevées qu'en 2019. Les ventes totales de véhicules électriques en Europe ont dépassé les ventes de véhicules électriques à nouvelle énergie (NEV) en Chine.\n",
    "\n",
    "\n",
    "L’essor des ventes de véhicules électriques en Europe en 2020 s’est poursuivi en 2021. Concrètement, au premier trimestre 2021, près de 200 000 véhicules électriques ont été nouvellement immatriculés sur ce marché. Grâce à cela, les pays européens sont devenus le principal facteur contribuant au développement rapide des véhicules électriques à l’échelle mondiale."
   ]
  }
 ],
 "metadata": {
  "kernelspec": {
   "display_name": "Python 3 (ipykernel)",
   "language": "python",
   "name": "python3"
  },
  "language_info": {
   "codemirror_mode": {
    "name": "ipython",
    "version": 3
   },
   "file_extension": ".py",
   "mimetype": "text/x-python",
   "name": "python",
   "nbconvert_exporter": "python",
   "pygments_lexer": "ipython3",
   "version": "3.11.4"
  }
 },
 "nbformat": 4,
 "nbformat_minor": 5
}
