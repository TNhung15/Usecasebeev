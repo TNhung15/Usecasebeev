{
 "cells": [
  {
   "cell_type": "markdown",
   "id": "5d451d28",
   "metadata": {},
   "source": [
    "# Projet_Beev: NGHIEM Thi Nhung"
   ]
  },
  {
   "cell_type": "markdown",
   "id": "f89e858b",
   "metadata": {},
   "source": [
    "## Question 2: Read file csv"
   ]
  },
  {
   "cell_type": "code",
   "execution_count": 1,
   "id": "773cafc8",
   "metadata": {},
   "outputs": [
    {
     "name": "stdout",
     "output_type": "stream",
     "text": [
      "CSV Content:\n",
      "           Make     Model  Year  Price Engine Type\n",
      "0          Fiat      Tipo  2013  53000    Electric\n",
      "1          Fiat      Tipo  2020  49000    Electric\n",
      "2          Audi        Q5  2022  39000     Thermal\n",
      "3      Vauxhall     Astra  2011  36000     Thermal\n",
      "4        Jaguar        XF  2013  23000     Thermal\n",
      "..          ...       ...   ...    ...         ...\n",
      "495  Volkswagen    Tiguan  2014  25000    Electric\n",
      "496        Ford   Mustang  2010  35000    Electric\n",
      "497     Hyundai  Palisade  2018  35000    Electric\n",
      "498         Kia      Soul  2016  52000     Thermal\n",
      "499       Lexus        NX  2011  66000     Thermal\n",
      "\n",
      "[500 rows x 5 columns]\n"
     ]
    }
   ],
   "source": [
    "import pandas as pd\n",
    "\n",
    "def read_csv(file_path):\n",
    "    try:\n",
    "        df = pd.read_csv(file_path)\n",
    "\n",
    "        print(\"CSV Content:\")\n",
    "        print(df)\n",
    "        return df\n",
    "    \n",
    "    except Exception as e:\n",
    "        print(f\"Error: {e}\")\n",
    "        return None\n",
    "\n",
    "file = r\"C:\\Users\\nghie\\OneDrive\\Desktop\\Projet_Beev\\car_data.csv\"\n",
    "car_data = read_csv(file)"
   ]
  },
  {
   "cell_type": "code",
   "execution_count": 2,
   "id": "0aa9dd62",
   "metadata": {},
   "outputs": [
    {
     "name": "stdout",
     "output_type": "stream",
     "text": [
      "CSV Content:\n",
      "        Country     Make     Model  Year  Review Score  Sales Volume\n",
      "0       Germany  Porsche        XF  2017           2.3          8638\n",
      "1           USA  Porsche        XF  2017           2.1         17116\n",
      "2       Germany  Porsche        XF  2011           1.2         11645\n",
      "3           USA  Porsche        XF  2011           2.0          9441\n",
      "4       Germany  Porsche        XF  2021           4.5          8650\n",
      "...         ...      ...       ...   ...           ...           ...\n",
      "105750  Germany     Audi  7 Series  2010           1.7         17992\n",
      "105751      USA     Audi  7 Series  2010           1.2         16218\n",
      "105752   France     Audi  7 Series  2015           3.5         17209\n",
      "105753  Germany     Audi  7 Series  2015           2.0         13093\n",
      "105754      USA     Audi  7 Series  2015           2.2         14187\n",
      "\n",
      "[105755 rows x 6 columns]\n"
     ]
    }
   ],
   "source": [
    "file2 = r\"C:\\Users\\nghie\\OneDrive\\Desktop\\Projet_Beev\\consumer_data.csv\"\n",
    "consumer_data = read_csv(file2)"
   ]
  },
  {
   "cell_type": "code",
   "execution_count": 3,
   "id": "ee772cfb",
   "metadata": {},
   "outputs": [
    {
     "data": {
      "text/html": [
       "<div>\n",
       "<style scoped>\n",
       "    .dataframe tbody tr th:only-of-type {\n",
       "        vertical-align: middle;\n",
       "    }\n",
       "\n",
       "    .dataframe tbody tr th {\n",
       "        vertical-align: top;\n",
       "    }\n",
       "\n",
       "    .dataframe thead th {\n",
       "        text-align: right;\n",
       "    }\n",
       "</style>\n",
       "<table border=\"1\" class=\"dataframe\">\n",
       "  <thead>\n",
       "    <tr style=\"text-align: right;\">\n",
       "      <th></th>\n",
       "      <th>Make</th>\n",
       "      <th>Model</th>\n",
       "      <th>Year</th>\n",
       "      <th>Price</th>\n",
       "      <th>Engine Type</th>\n",
       "      <th>Country</th>\n",
       "      <th>Review Score</th>\n",
       "      <th>Sales Volume</th>\n",
       "    </tr>\n",
       "  </thead>\n",
       "  <tbody>\n",
       "    <tr>\n",
       "      <th>0</th>\n",
       "      <td>Fiat</td>\n",
       "      <td>Tipo</td>\n",
       "      <td>2013</td>\n",
       "      <td>53000</td>\n",
       "      <td>Electric</td>\n",
       "      <td>France</td>\n",
       "      <td>4.1</td>\n",
       "      <td>2314</td>\n",
       "    </tr>\n",
       "    <tr>\n",
       "      <th>1</th>\n",
       "      <td>Fiat</td>\n",
       "      <td>Tipo</td>\n",
       "      <td>2013</td>\n",
       "      <td>53000</td>\n",
       "      <td>Electric</td>\n",
       "      <td>Germany</td>\n",
       "      <td>4.2</td>\n",
       "      <td>6061</td>\n",
       "    </tr>\n",
       "    <tr>\n",
       "      <th>2</th>\n",
       "      <td>Fiat</td>\n",
       "      <td>Tipo</td>\n",
       "      <td>2013</td>\n",
       "      <td>53000</td>\n",
       "      <td>Electric</td>\n",
       "      <td>USA</td>\n",
       "      <td>4.0</td>\n",
       "      <td>15534</td>\n",
       "    </tr>\n",
       "    <tr>\n",
       "      <th>3</th>\n",
       "      <td>Fiat</td>\n",
       "      <td>Tipo</td>\n",
       "      <td>2020</td>\n",
       "      <td>49000</td>\n",
       "      <td>Electric</td>\n",
       "      <td>France</td>\n",
       "      <td>1.3</td>\n",
       "      <td>10015</td>\n",
       "    </tr>\n",
       "    <tr>\n",
       "      <th>4</th>\n",
       "      <td>Fiat</td>\n",
       "      <td>Tipo</td>\n",
       "      <td>2020</td>\n",
       "      <td>49000</td>\n",
       "      <td>Electric</td>\n",
       "      <td>Germany</td>\n",
       "      <td>2.7</td>\n",
       "      <td>4978</td>\n",
       "    </tr>\n",
       "    <tr>\n",
       "      <th>...</th>\n",
       "      <td>...</td>\n",
       "      <td>...</td>\n",
       "      <td>...</td>\n",
       "      <td>...</td>\n",
       "      <td>...</td>\n",
       "      <td>...</td>\n",
       "      <td>...</td>\n",
       "      <td>...</td>\n",
       "    </tr>\n",
       "    <tr>\n",
       "      <th>1495</th>\n",
       "      <td>Kia</td>\n",
       "      <td>Soul</td>\n",
       "      <td>2016</td>\n",
       "      <td>52000</td>\n",
       "      <td>Thermal</td>\n",
       "      <td>Germany</td>\n",
       "      <td>4.5</td>\n",
       "      <td>16397</td>\n",
       "    </tr>\n",
       "    <tr>\n",
       "      <th>1496</th>\n",
       "      <td>Kia</td>\n",
       "      <td>Soul</td>\n",
       "      <td>2016</td>\n",
       "      <td>52000</td>\n",
       "      <td>Thermal</td>\n",
       "      <td>USA</td>\n",
       "      <td>1.9</td>\n",
       "      <td>14998</td>\n",
       "    </tr>\n",
       "    <tr>\n",
       "      <th>1497</th>\n",
       "      <td>Lexus</td>\n",
       "      <td>NX</td>\n",
       "      <td>2011</td>\n",
       "      <td>66000</td>\n",
       "      <td>Thermal</td>\n",
       "      <td>France</td>\n",
       "      <td>4.5</td>\n",
       "      <td>9454</td>\n",
       "    </tr>\n",
       "    <tr>\n",
       "      <th>1498</th>\n",
       "      <td>Lexus</td>\n",
       "      <td>NX</td>\n",
       "      <td>2011</td>\n",
       "      <td>66000</td>\n",
       "      <td>Thermal</td>\n",
       "      <td>Germany</td>\n",
       "      <td>2.7</td>\n",
       "      <td>14798</td>\n",
       "    </tr>\n",
       "    <tr>\n",
       "      <th>1499</th>\n",
       "      <td>Lexus</td>\n",
       "      <td>NX</td>\n",
       "      <td>2011</td>\n",
       "      <td>66000</td>\n",
       "      <td>Thermal</td>\n",
       "      <td>USA</td>\n",
       "      <td>2.0</td>\n",
       "      <td>9416</td>\n",
       "    </tr>\n",
       "  </tbody>\n",
       "</table>\n",
       "<p>1500 rows × 8 columns</p>\n",
       "</div>"
      ],
      "text/plain": [
       "       Make Model  Year  Price Engine Type  Country  Review Score  \\\n",
       "0      Fiat  Tipo  2013  53000    Electric   France           4.1   \n",
       "1      Fiat  Tipo  2013  53000    Electric  Germany           4.2   \n",
       "2      Fiat  Tipo  2013  53000    Electric      USA           4.0   \n",
       "3      Fiat  Tipo  2020  49000    Electric   France           1.3   \n",
       "4      Fiat  Tipo  2020  49000    Electric  Germany           2.7   \n",
       "...     ...   ...   ...    ...         ...      ...           ...   \n",
       "1495    Kia  Soul  2016  52000     Thermal  Germany           4.5   \n",
       "1496    Kia  Soul  2016  52000     Thermal      USA           1.9   \n",
       "1497  Lexus    NX  2011  66000     Thermal   France           4.5   \n",
       "1498  Lexus    NX  2011  66000     Thermal  Germany           2.7   \n",
       "1499  Lexus    NX  2011  66000     Thermal      USA           2.0   \n",
       "\n",
       "      Sales Volume  \n",
       "0             2314  \n",
       "1             6061  \n",
       "2            15534  \n",
       "3            10015  \n",
       "4             4978  \n",
       "...            ...  \n",
       "1495         16397  \n",
       "1496         14998  \n",
       "1497          9454  \n",
       "1498         14798  \n",
       "1499          9416  \n",
       "\n",
       "[1500 rows x 8 columns]"
      ]
     },
     "execution_count": 3,
     "metadata": {},
     "output_type": "execute_result"
    }
   ],
   "source": [
    "merged_df = pd.merge(car_data, consumer_data, on=['Make', 'Model', 'Year'], how='inner')\n",
    "merged_df"
   ]
  },
  {
   "cell_type": "code",
   "execution_count": 4,
   "id": "ebe7fe4f",
   "metadata": {},
   "outputs": [
    {
     "data": {
      "text/html": [
       "<div>\n",
       "<style scoped>\n",
       "    .dataframe tbody tr th:only-of-type {\n",
       "        vertical-align: middle;\n",
       "    }\n",
       "\n",
       "    .dataframe tbody tr th {\n",
       "        vertical-align: top;\n",
       "    }\n",
       "\n",
       "    .dataframe thead th {\n",
       "        text-align: right;\n",
       "    }\n",
       "</style>\n",
       "<table border=\"1\" class=\"dataframe\">\n",
       "  <thead>\n",
       "    <tr style=\"text-align: right;\">\n",
       "      <th></th>\n",
       "      <th>Make</th>\n",
       "      <th>Model</th>\n",
       "      <th>Year</th>\n",
       "      <th>Price</th>\n",
       "      <th>Engine Type</th>\n",
       "      <th>Country</th>\n",
       "      <th>Review Score</th>\n",
       "      <th>Sales Volume</th>\n",
       "    </tr>\n",
       "  </thead>\n",
       "  <tbody>\n",
       "    <tr>\n",
       "      <th>0</th>\n",
       "      <td>Fiat</td>\n",
       "      <td>Tipo</td>\n",
       "      <td>2013</td>\n",
       "      <td>53000</td>\n",
       "      <td>Electric</td>\n",
       "      <td>France</td>\n",
       "      <td>4.1</td>\n",
       "      <td>2314</td>\n",
       "    </tr>\n",
       "    <tr>\n",
       "      <th>1</th>\n",
       "      <td>Fiat</td>\n",
       "      <td>Tipo</td>\n",
       "      <td>2013</td>\n",
       "      <td>53000</td>\n",
       "      <td>Electric</td>\n",
       "      <td>Germany</td>\n",
       "      <td>4.2</td>\n",
       "      <td>6061</td>\n",
       "    </tr>\n",
       "    <tr>\n",
       "      <th>2</th>\n",
       "      <td>Fiat</td>\n",
       "      <td>Tipo</td>\n",
       "      <td>2013</td>\n",
       "      <td>53000</td>\n",
       "      <td>Electric</td>\n",
       "      <td>USA</td>\n",
       "      <td>4.0</td>\n",
       "      <td>15534</td>\n",
       "    </tr>\n",
       "    <tr>\n",
       "      <th>3</th>\n",
       "      <td>Fiat</td>\n",
       "      <td>Tipo</td>\n",
       "      <td>2020</td>\n",
       "      <td>49000</td>\n",
       "      <td>Electric</td>\n",
       "      <td>France</td>\n",
       "      <td>1.3</td>\n",
       "      <td>10015</td>\n",
       "    </tr>\n",
       "    <tr>\n",
       "      <th>4</th>\n",
       "      <td>Fiat</td>\n",
       "      <td>Tipo</td>\n",
       "      <td>2020</td>\n",
       "      <td>49000</td>\n",
       "      <td>Electric</td>\n",
       "      <td>Germany</td>\n",
       "      <td>2.7</td>\n",
       "      <td>4978</td>\n",
       "    </tr>\n",
       "    <tr>\n",
       "      <th>...</th>\n",
       "      <td>...</td>\n",
       "      <td>...</td>\n",
       "      <td>...</td>\n",
       "      <td>...</td>\n",
       "      <td>...</td>\n",
       "      <td>...</td>\n",
       "      <td>...</td>\n",
       "      <td>...</td>\n",
       "    </tr>\n",
       "    <tr>\n",
       "      <th>1495</th>\n",
       "      <td>Kia</td>\n",
       "      <td>Soul</td>\n",
       "      <td>2016</td>\n",
       "      <td>52000</td>\n",
       "      <td>Thermal</td>\n",
       "      <td>Germany</td>\n",
       "      <td>4.5</td>\n",
       "      <td>16397</td>\n",
       "    </tr>\n",
       "    <tr>\n",
       "      <th>1496</th>\n",
       "      <td>Kia</td>\n",
       "      <td>Soul</td>\n",
       "      <td>2016</td>\n",
       "      <td>52000</td>\n",
       "      <td>Thermal</td>\n",
       "      <td>USA</td>\n",
       "      <td>1.9</td>\n",
       "      <td>14998</td>\n",
       "    </tr>\n",
       "    <tr>\n",
       "      <th>1497</th>\n",
       "      <td>Lexus</td>\n",
       "      <td>NX</td>\n",
       "      <td>2011</td>\n",
       "      <td>66000</td>\n",
       "      <td>Thermal</td>\n",
       "      <td>France</td>\n",
       "      <td>4.5</td>\n",
       "      <td>9454</td>\n",
       "    </tr>\n",
       "    <tr>\n",
       "      <th>1498</th>\n",
       "      <td>Lexus</td>\n",
       "      <td>NX</td>\n",
       "      <td>2011</td>\n",
       "      <td>66000</td>\n",
       "      <td>Thermal</td>\n",
       "      <td>Germany</td>\n",
       "      <td>2.7</td>\n",
       "      <td>14798</td>\n",
       "    </tr>\n",
       "    <tr>\n",
       "      <th>1499</th>\n",
       "      <td>Lexus</td>\n",
       "      <td>NX</td>\n",
       "      <td>2011</td>\n",
       "      <td>66000</td>\n",
       "      <td>Thermal</td>\n",
       "      <td>USA</td>\n",
       "      <td>2.0</td>\n",
       "      <td>9416</td>\n",
       "    </tr>\n",
       "  </tbody>\n",
       "</table>\n",
       "<p>1500 rows × 8 columns</p>\n",
       "</div>"
      ],
      "text/plain": [
       "       Make Model  Year  Price Engine Type  Country  Review Score  \\\n",
       "0      Fiat  Tipo  2013  53000    Electric   France           4.1   \n",
       "1      Fiat  Tipo  2013  53000    Electric  Germany           4.2   \n",
       "2      Fiat  Tipo  2013  53000    Electric      USA           4.0   \n",
       "3      Fiat  Tipo  2020  49000    Electric   France           1.3   \n",
       "4      Fiat  Tipo  2020  49000    Electric  Germany           2.7   \n",
       "...     ...   ...   ...    ...         ...      ...           ...   \n",
       "1495    Kia  Soul  2016  52000     Thermal  Germany           4.5   \n",
       "1496    Kia  Soul  2016  52000     Thermal      USA           1.9   \n",
       "1497  Lexus    NX  2011  66000     Thermal   France           4.5   \n",
       "1498  Lexus    NX  2011  66000     Thermal  Germany           2.7   \n",
       "1499  Lexus    NX  2011  66000     Thermal      USA           2.0   \n",
       "\n",
       "      Sales Volume  \n",
       "0             2314  \n",
       "1             6061  \n",
       "2            15534  \n",
       "3            10015  \n",
       "4             4978  \n",
       "...            ...  \n",
       "1495         16397  \n",
       "1496         14998  \n",
       "1497          9454  \n",
       "1498         14798  \n",
       "1499          9416  \n",
       "\n",
       "[1500 rows x 8 columns]"
      ]
     },
     "execution_count": 4,
     "metadata": {},
     "output_type": "execute_result"
    }
   ],
   "source": [
    "merged_df.to_csv('merged_file.csv', index=False)\n",
    "merged_df"
   ]
  },
  {
   "cell_type": "code",
   "execution_count": 5,
   "id": "c831731a",
   "metadata": {},
   "outputs": [
    {
     "data": {
      "text/plain": [
       "Make            0\n",
       "Model           0\n",
       "Year            0\n",
       "Price           0\n",
       "Engine Type     0\n",
       "Country         0\n",
       "Review Score    0\n",
       "Sales Volume    0\n",
       "dtype: int64"
      ]
     },
     "execution_count": 5,
     "metadata": {},
     "output_type": "execute_result"
    }
   ],
   "source": [
    "merged_df.isna().sum()"
   ]
  },
  {
   "cell_type": "code",
   "execution_count": 6,
   "id": "d73a373b",
   "metadata": {},
   "outputs": [
    {
     "name": "stdout",
     "output_type": "stream",
     "text": [
      "       Make  Model   Year  Price  Engine Type  Country  Review Score  \\\n",
      "0     False  False  False  False        False    False         False   \n",
      "1     False  False  False  False        False    False         False   \n",
      "2     False  False  False  False        False    False         False   \n",
      "3     False  False  False  False        False    False         False   \n",
      "4     False  False  False  False        False    False         False   \n",
      "...     ...    ...    ...    ...          ...      ...           ...   \n",
      "1495  False  False  False  False        False    False         False   \n",
      "1496  False  False  False  False        False    False         False   \n",
      "1497  False  False  False  False        False    False         False   \n",
      "1498  False  False  False  False        False    False         False   \n",
      "1499  False  False  False  False        False    False         False   \n",
      "\n",
      "      Sales Volume  \n",
      "0            False  \n",
      "1            False  \n",
      "2            False  \n",
      "3            False  \n",
      "4            False  \n",
      "...            ...  \n",
      "1495         False  \n",
      "1496         False  \n",
      "1497         False  \n",
      "1498         False  \n",
      "1499         False  \n",
      "\n",
      "[1500 rows x 8 columns]\n"
     ]
    }
   ],
   "source": [
    "na_merge=merged_df.isna()\n",
    "print(na_merge)"
   ]
  },
  {
   "cell_type": "code",
   "execution_count": 17,
   "id": "aa1f8adb",
   "metadata": {},
   "outputs": [
    {
     "name": "stderr",
     "output_type": "stream",
     "text": [
      "C:\\Users\\nghie\\anaconda3\\Lib\\site-packages\\seaborn\\categorical.py:82: FutureWarning: iteritems is deprecated and will be removed in a future version. Use .items instead.\n",
      "  plot_data = [np.asarray(s, float) for k, s in iter_data]\n"
     ]
    },
    {
     "data": {
      "image/png": "[encoded data removed]",
      "text/plain": [
       "<Figure size 900x300 with 1 Axes>"
      ]
     },
     "metadata": {},
     "output_type": "display_data"
    }
   ],
   "source": [
    "import matplotlib.pyplot as plt\n",
    "import seaborn as sns\n",
    "# Sélection de toutes les colonnes numériques pour le box plot\n",
    "variables = ['Price', 'Make', 'Model', 'Engine Type', 'Review Score',\n",
    "             'Sales Volume']\n",
    "\n",
    "# Création du box plot\n",
    "plt.figure(figsize=(9, 3))\n",
    "sns.boxplot(data=merged_df[variables])\n",
    "\n",
    "# Ajout d'un titre au graphique\n",
    "plt.title('Box Plot des variables de merged_df', fontsize=14)\n",
    "\n",
    "# Réglage de l'orientation des étiquettes sur l'axe des x pour une meilleure lisibilité\n",
    "plt.xticks(rotation=90)\n",
    "\n",
    "# Affichage du graphique\n",
    "plt.show()"
   ]
  },
  {
   "cell_type": "markdown",
   "id": "0c6b9c6e",
   "metadata": {},
   "source": [
    "Nous remarquons qu'il n'y a pas de valeurs aberrantes et NA dans les données."
   ]
  },
  {
   "cell_type": "markdown",
   "id": "bd5ac36d",
   "metadata": {},
   "source": [
    "## Question 3"
   ]
  },
  {
   "cell_type": "markdown",
   "id": "ec65af3a",
   "metadata": {},
   "source": [
    "### 3-a: Find the total number of cars by model by country."
   ]
  },
  {
   "cell_type": "code",
   "execution_count": 7,
   "id": "452faf1a",
   "metadata": {},
   "outputs": [
    {
     "data": {
      "text/html": [
       "<div>\n",
       "<style scoped>\n",
       "    .dataframe tbody tr th:only-of-type {\n",
       "        vertical-align: middle;\n",
       "    }\n",
       "\n",
       "    .dataframe tbody tr th {\n",
       "        vertical-align: top;\n",
       "    }\n",
       "\n",
       "    .dataframe thead th {\n",
       "        text-align: right;\n",
       "    }\n",
       "</style>\n",
       "<table border=\"1\" class=\"dataframe\">\n",
       "  <thead>\n",
       "    <tr style=\"text-align: right;\">\n",
       "      <th></th>\n",
       "      <th>Model</th>\n",
       "      <th>Country</th>\n",
       "      <th>Review Score</th>\n",
       "    </tr>\n",
       "  </thead>\n",
       "  <tbody>\n",
       "    <tr>\n",
       "      <th>0</th>\n",
       "      <td>124 Spider</td>\n",
       "      <td>France</td>\n",
       "      <td>[4.6, 1.6, 2.8, 3.2, 2.1, 2.6, 3.2]</td>\n",
       "    </tr>\n",
       "    <tr>\n",
       "      <th>1</th>\n",
       "      <td>124 Spider</td>\n",
       "      <td>Germany</td>\n",
       "      <td>[3.9, 2.9, 4.1, 1.7, 2.6, 3.8, 2.3]</td>\n",
       "    </tr>\n",
       "    <tr>\n",
       "      <th>2</th>\n",
       "      <td>124 Spider</td>\n",
       "      <td>USA</td>\n",
       "      <td>[4.7, 4.2, 1.7, 2.2, 3.0, 4.5, 2.1]</td>\n",
       "    </tr>\n",
       "    <tr>\n",
       "      <th>3</th>\n",
       "      <td>3 Series</td>\n",
       "      <td>France</td>\n",
       "      <td>[1.8, 2.5, 1.5, 4.6]</td>\n",
       "    </tr>\n",
       "    <tr>\n",
       "      <th>4</th>\n",
       "      <td>3 Series</td>\n",
       "      <td>Germany</td>\n",
       "      <td>[4.1, 2.0, 2.3, 4.8]</td>\n",
       "    </tr>\n",
       "    <tr>\n",
       "      <th>...</th>\n",
       "      <td>...</td>\n",
       "      <td>...</td>\n",
       "      <td>...</td>\n",
       "    </tr>\n",
       "    <tr>\n",
       "      <th>334</th>\n",
       "      <td>XF</td>\n",
       "      <td>Germany</td>\n",
       "      <td>[3.1, 1.6, 3.6, 4.2]</td>\n",
       "    </tr>\n",
       "    <tr>\n",
       "      <th>335</th>\n",
       "      <td>XF</td>\n",
       "      <td>USA</td>\n",
       "      <td>[3.7, 4.5, 4.6, 2.2]</td>\n",
       "    </tr>\n",
       "    <tr>\n",
       "      <th>336</th>\n",
       "      <td>e-tron</td>\n",
       "      <td>France</td>\n",
       "      <td>[2.8, 4.2]</td>\n",
       "    </tr>\n",
       "    <tr>\n",
       "      <th>337</th>\n",
       "      <td>e-tron</td>\n",
       "      <td>Germany</td>\n",
       "      <td>[1.7, 1.2]</td>\n",
       "    </tr>\n",
       "    <tr>\n",
       "      <th>338</th>\n",
       "      <td>e-tron</td>\n",
       "      <td>USA</td>\n",
       "      <td>[2.7, 4.6]</td>\n",
       "    </tr>\n",
       "  </tbody>\n",
       "</table>\n",
       "<p>339 rows × 3 columns</p>\n",
       "</div>"
      ],
      "text/plain": [
       "          Model  Country                         Review Score\n",
       "0    124 Spider   France  [4.6, 1.6, 2.8, 3.2, 2.1, 2.6, 3.2]\n",
       "1    124 Spider  Germany  [3.9, 2.9, 4.1, 1.7, 2.6, 3.8, 2.3]\n",
       "2    124 Spider      USA  [4.7, 4.2, 1.7, 2.2, 3.0, 4.5, 2.1]\n",
       "3      3 Series   France                 [1.8, 2.5, 1.5, 4.6]\n",
       "4      3 Series  Germany                 [4.1, 2.0, 2.3, 4.8]\n",
       "..          ...      ...                                  ...\n",
       "334          XF  Germany                 [3.1, 1.6, 3.6, 4.2]\n",
       "335          XF      USA                 [3.7, 4.5, 4.6, 2.2]\n",
       "336      e-tron   France                           [2.8, 4.2]\n",
       "337      e-tron  Germany                           [1.7, 1.2]\n",
       "338      e-tron      USA                           [2.7, 4.6]\n",
       "\n",
       "[339 rows x 3 columns]"
      ]
     },
     "execution_count": 7,
     "metadata": {},
     "output_type": "execute_result"
    }
   ],
   "source": [
    "grouped_merged_item_cat_df = merged_df.groupby(\n",
    "   by=['Model','Country']).agg({'Review Score':list}).reset_index()\n",
    "grouped_merged_item_cat_df"
   ]
  },
  {
   "cell_type": "code",
   "execution_count": 8,
   "id": "84afb42a",
   "metadata": {},
   "outputs": [
    {
     "name": "stdout",
     "output_type": "stream",
     "text": [
      "          Model  Country  Total Cars\n",
      "0    124 Spider   France           7\n",
      "1    124 Spider  Germany           7\n",
      "2    124 Spider      USA           7\n",
      "3      3 Series   France           4\n",
      "4      3 Series  Germany           4\n",
      "..          ...      ...         ...\n",
      "334          XF  Germany           4\n",
      "335          XF      USA           4\n",
      "336      e-tron   France           2\n",
      "337      e-tron  Germany           2\n",
      "338      e-tron      USA           2\n",
      "\n",
      "[339 rows x 3 columns]\n"
     ]
    }
   ],
   "source": [
    "total_cars_by_model_country = merged_df.groupby(['Model', 'Country'])['Country'].count().reset_index(name='Total Cars')\n",
    "\n",
    "print(total_cars_by_model_country)"
   ]
  },
  {
   "cell_type": "code",
   "execution_count": 9,
   "id": "a251150d",
   "metadata": {},
   "outputs": [
    {
     "data": {
      "text/html": [
       "<div>\n",
       "<style scoped>\n",
       "    .dataframe tbody tr th:only-of-type {\n",
       "        vertical-align: middle;\n",
       "    }\n",
       "\n",
       "    .dataframe tbody tr th {\n",
       "        vertical-align: top;\n",
       "    }\n",
       "\n",
       "    .dataframe thead th {\n",
       "        text-align: right;\n",
       "    }\n",
       "</style>\n",
       "<table border=\"1\" class=\"dataframe\">\n",
       "  <thead>\n",
       "    <tr style=\"text-align: right;\">\n",
       "      <th></th>\n",
       "      <th>Model</th>\n",
       "      <th>Country</th>\n",
       "      <th>Car Count</th>\n",
       "    </tr>\n",
       "  </thead>\n",
       "  <tbody>\n",
       "    <tr>\n",
       "      <th>0</th>\n",
       "      <td>124 Spider</td>\n",
       "      <td>France</td>\n",
       "      <td>7</td>\n",
       "    </tr>\n",
       "    <tr>\n",
       "      <th>1</th>\n",
       "      <td>124 Spider</td>\n",
       "      <td>Germany</td>\n",
       "      <td>7</td>\n",
       "    </tr>\n",
       "    <tr>\n",
       "      <th>2</th>\n",
       "      <td>124 Spider</td>\n",
       "      <td>USA</td>\n",
       "      <td>7</td>\n",
       "    </tr>\n",
       "    <tr>\n",
       "      <th>3</th>\n",
       "      <td>3 Series</td>\n",
       "      <td>France</td>\n",
       "      <td>4</td>\n",
       "    </tr>\n",
       "    <tr>\n",
       "      <th>4</th>\n",
       "      <td>3 Series</td>\n",
       "      <td>Germany</td>\n",
       "      <td>4</td>\n",
       "    </tr>\n",
       "    <tr>\n",
       "      <th>...</th>\n",
       "      <td>...</td>\n",
       "      <td>...</td>\n",
       "      <td>...</td>\n",
       "    </tr>\n",
       "    <tr>\n",
       "      <th>334</th>\n",
       "      <td>XF</td>\n",
       "      <td>Germany</td>\n",
       "      <td>4</td>\n",
       "    </tr>\n",
       "    <tr>\n",
       "      <th>335</th>\n",
       "      <td>XF</td>\n",
       "      <td>USA</td>\n",
       "      <td>4</td>\n",
       "    </tr>\n",
       "    <tr>\n",
       "      <th>336</th>\n",
       "      <td>e-tron</td>\n",
       "      <td>France</td>\n",
       "      <td>2</td>\n",
       "    </tr>\n",
       "    <tr>\n",
       "      <th>337</th>\n",
       "      <td>e-tron</td>\n",
       "      <td>Germany</td>\n",
       "      <td>2</td>\n",
       "    </tr>\n",
       "    <tr>\n",
       "      <th>338</th>\n",
       "      <td>e-tron</td>\n",
       "      <td>USA</td>\n",
       "      <td>2</td>\n",
       "    </tr>\n",
       "  </tbody>\n",
       "</table>\n",
       "<p>339 rows × 3 columns</p>\n",
       "</div>"
      ],
      "text/plain": [
       "          Model  Country  Car Count\n",
       "0    124 Spider   France          7\n",
       "1    124 Spider  Germany          7\n",
       "2    124 Spider      USA          7\n",
       "3      3 Series   France          4\n",
       "4      3 Series  Germany          4\n",
       "..          ...      ...        ...\n",
       "334          XF  Germany          4\n",
       "335          XF      USA          4\n",
       "336      e-tron   France          2\n",
       "337      e-tron  Germany          2\n",
       "338      e-tron      USA          2\n",
       "\n",
       "[339 rows x 3 columns]"
      ]
     },
     "execution_count": 9,
     "metadata": {},
     "output_type": "execute_result"
    }
   ],
   "source": [
    "car_counts = merged_df.groupby(['Model', 'Country']).size().reset_index(name='Car Count')\n",
    "car_counts"
   ]
  },
  {
   "cell_type": "markdown",
   "id": "f854ce75",
   "metadata": {},
   "source": [
    "Nous pouvons donc constater que les voitures du modèle 124Spider sont les plus vendues sur le marché européen. Parce qu'il s'agit d'un nouveau modèle de voiture italienne au design sportif et élégant, et généralement un cabriolet. De plus, la voiture est également équipée d'un moteur puissant, d'une capacité de 138 chevaux et 240 Nm de couple, ce modèle cabriolet peut accélérer de 0 à 100 km/h en 7,5 secondes, apportant ainsi une efficacité, des performances remarquables et une expérience de conduite agréable."
   ]
  },
  {
   "cell_type": "markdown",
   "id": "ec9980fc",
   "metadata": {},
   "source": [
    "### 3-b: Which country has the most of each model?"
   ]
  },
  {
   "cell_type": "code",
   "execution_count": 18,
   "id": "c09b2f70",
   "metadata": {},
   "outputs": [
    {
     "name": "stdout",
     "output_type": "stream",
     "text": [
      "Country        France\n",
      "Model Count       113\n",
      "Name: 0, dtype: object\n"
     ]
    }
   ],
   "source": [
    "model_counts_by_country = merged_df.groupby('Country')['Model'].nunique().reset_index(name='Model Count')\n",
    "\n",
    "country_most_models = model_counts_by_country.loc[model_counts_by_country['Model Count'].idxmax()]\n",
    "\n",
    "print(country_most_models)"
   ]
  },
  {
   "cell_type": "markdown",
   "id": "85748e0b",
   "metadata": {},
   "source": [
    "On voit donc que la France est le pays qui compte le plus de modèles de voitures. Car il est possible que la politique environnementale et l’accent mis sur les véhicules électriques et respectueux de l’environnement en France favorisent la diversité des modèles de voitures. La France a tendance à se concentrer sur les modèles petits et économes en carburant, alors que les consommateurs américains ont souvent une forte préférence pour les gros véhicules performants, notamment les SUV et les camionnettes."
   ]
  },
  {
   "cell_type": "markdown",
   "id": "6d197625",
   "metadata": {},
   "source": [
    "### 3-c: Any model is sold in the USA but not in France."
   ]
  },
  {
   "cell_type": "code",
   "execution_count": 24,
   "id": "7ba51be5",
   "metadata": {},
   "outputs": [
    {
     "data": {
      "text/plain": [
       "set()"
      ]
     },
     "execution_count": 24,
     "metadata": {},
     "output_type": "execute_result"
    }
   ],
   "source": [
    "models_in_usa_not_in_france = set(merged_df[merged_df['Country'] == 'USA']['Model']) - set(merged_df[merged_df['Country'] == 'France']['Model'])\n",
    "\n",
    "models_in_usa_not_in_france"
   ]
  },
  {
   "cell_type": "code",
   "execution_count": 23,
   "id": "d52b524d",
   "metadata": {},
   "outputs": [
    {
     "name": "stderr",
     "output_type": "stream",
     "text": [
      "C:\\Users\\nghie\\AppData\\Local\\Temp\\ipykernel_9932\\3624025316.py:1: UserWarning: Boolean Series key will be reindexed to match DataFrame index.\n",
      "  models_usa_not_france = consumer_data[consumer_data['Country'] == 'USA'][~consumer_data['Model'].isin(consumer_data[consumer_data['Country'] == 'France']['Model'])]\n"
     ]
    },
    {
     "data": {
      "text/html": [
       "<div>\n",
       "<style scoped>\n",
       "    .dataframe tbody tr th:only-of-type {\n",
       "        vertical-align: middle;\n",
       "    }\n",
       "\n",
       "    .dataframe tbody tr th {\n",
       "        vertical-align: top;\n",
       "    }\n",
       "\n",
       "    .dataframe thead th {\n",
       "        text-align: right;\n",
       "    }\n",
       "</style>\n",
       "<table border=\"1\" class=\"dataframe\">\n",
       "  <thead>\n",
       "    <tr style=\"text-align: right;\">\n",
       "      <th></th>\n",
       "      <th>Model</th>\n",
       "      <th>Country</th>\n",
       "    </tr>\n",
       "  </thead>\n",
       "  <tbody>\n",
       "  </tbody>\n",
       "</table>\n",
       "</div>"
      ],
      "text/plain": [
       "Empty DataFrame\n",
       "Columns: [Model, Country]\n",
       "Index: []"
      ]
     },
     "execution_count": 23,
     "metadata": {},
     "output_type": "execute_result"
    }
   ],
   "source": [
    "models_usa_not_france = consumer_data[consumer_data['Country'] == 'USA'][~consumer_data['Model'].isin(consumer_data[consumer_data['Country'] == 'France']['Model'])]\n",
    "\n",
    "models_usa_not_france[['Model', 'Country']]"
   ]
  },
  {
   "cell_type": "markdown",
   "id": "e9b42519",
   "metadata": {},
   "source": [
    "On voit donc qu'il n'existe aucun modèle vendu aux USA qui ne soit vendu en France. Ceci est cohérent avec la diversité des modèles en France que nous avons analysés plus haut."
   ]
  },
  {
   "cell_type": "markdown",
   "id": "b175ca19",
   "metadata": {},
   "source": [
    "### 3-d: how much the average car costs in every country by engine type."
   ]
  },
  {
   "cell_type": "code",
   "execution_count": 17,
   "id": "d7b8f133",
   "metadata": {},
   "outputs": [
    {
     "data": {
      "text/html": [
       "<div>\n",
       "<style scoped>\n",
       "    .dataframe tbody tr th:only-of-type {\n",
       "        vertical-align: middle;\n",
       "    }\n",
       "\n",
       "    .dataframe tbody tr th {\n",
       "        vertical-align: top;\n",
       "    }\n",
       "\n",
       "    .dataframe thead th {\n",
       "        text-align: right;\n",
       "    }\n",
       "</style>\n",
       "<table border=\"1\" class=\"dataframe\">\n",
       "  <thead>\n",
       "    <tr style=\"text-align: right;\">\n",
       "      <th></th>\n",
       "      <th>Country</th>\n",
       "      <th>Engine Type</th>\n",
       "      <th>Average Price</th>\n",
       "    </tr>\n",
       "  </thead>\n",
       "  <tbody>\n",
       "    <tr>\n",
       "      <th>0</th>\n",
       "      <td>France</td>\n",
       "      <td>Electric</td>\n",
       "      <td>50216.0</td>\n",
       "    </tr>\n",
       "    <tr>\n",
       "      <th>1</th>\n",
       "      <td>France</td>\n",
       "      <td>Thermal</td>\n",
       "      <td>51072.0</td>\n",
       "    </tr>\n",
       "    <tr>\n",
       "      <th>2</th>\n",
       "      <td>Germany</td>\n",
       "      <td>Electric</td>\n",
       "      <td>50216.0</td>\n",
       "    </tr>\n",
       "    <tr>\n",
       "      <th>3</th>\n",
       "      <td>Germany</td>\n",
       "      <td>Thermal</td>\n",
       "      <td>51072.0</td>\n",
       "    </tr>\n",
       "    <tr>\n",
       "      <th>4</th>\n",
       "      <td>USA</td>\n",
       "      <td>Electric</td>\n",
       "      <td>50216.0</td>\n",
       "    </tr>\n",
       "    <tr>\n",
       "      <th>5</th>\n",
       "      <td>USA</td>\n",
       "      <td>Thermal</td>\n",
       "      <td>51072.0</td>\n",
       "    </tr>\n",
       "  </tbody>\n",
       "</table>\n",
       "</div>"
      ],
      "text/plain": [
       "   Country Engine Type  Average Price\n",
       "0   France    Electric        50216.0\n",
       "1   France     Thermal        51072.0\n",
       "2  Germany    Electric        50216.0\n",
       "3  Germany     Thermal        51072.0\n",
       "4      USA    Electric        50216.0\n",
       "5      USA     Thermal        51072.0"
      ]
     },
     "execution_count": 17,
     "metadata": {},
     "output_type": "execute_result"
    }
   ],
   "source": [
    "# Calculez le prix moyen de chaque voiture dans chaque pays par type de moteur\n",
    "average_price_by_country_engine = merged_df.groupby(['Country', 'Engine Type'])['Price'].mean().reset_index(name='Average Price')\n",
    "\n",
    "average_price_by_country_engine"
   ]
  },
  {
   "cell_type": "code",
   "execution_count": 22,
   "id": "42889ac0",
   "metadata": {},
   "outputs": [
    {
     "data": {
      "image/png": "[encoded data removed]",
      "text/plain": [
       "<Figure size 640x480 with 1 Axes>"
      ]
     },
     "metadata": {},
     "output_type": "display_data"
    }
   ],
   "source": [
    "sns.barplot(data=merged_df, x='Country', y='Price');"
   ]
  },
  {
   "cell_type": "markdown",
   "id": "80ab437c",
   "metadata": {},
   "source": [
    "### 3-e: We want to know the average ratings of electric cars vs thermal cars"
   ]
  },
  {
   "cell_type": "code",
   "execution_count": 14,
   "id": "a0027902",
   "metadata": {},
   "outputs": [
    {
     "name": "stdout",
     "output_type": "stream",
     "text": [
      "  Engine Type  Average Ratings\n",
      "0    Electric         2.980533\n",
      "1     Thermal         3.010667\n"
     ]
    }
   ],
   "source": [
    "average_ratings = merged_df.groupby('Engine Type')['Review Score'].mean().reset_index(name='Average Ratings')\n",
    "\n",
    "print(average_ratings)"
   ]
  },
  {
   "cell_type": "markdown",
   "id": "de775307",
   "metadata": {},
   "source": [
    "Nous constatons que les moteurs électriques (Electric) sont toujours mieux notés que les moteurs thermiques (Thermal) en raison d'un certain nombre d'avantages importants comme suit :\n",
    "- Premièrement : les moteurs électriques ont un rendement énergétique supérieur à celui des moteurs thermiques traditionnels. Dans le système électrique, l'énergie n'est pas autant gaspillée que dans le système thermique, ce qui réduit la consommation d'énergie et augmente les performances globales du véhicule.\n",
    "- Deuxièmement : les moteurs électriques ne créent pas d'émissions directes pendant leur fonctionnement, ce qui contribue à réduire les impacts négatifs sur l'environnement et la santé humaine.\n",
    "- Troisièmement : Faible bruit : Comparés à de nombreux moteurs thermiques, les moteurs électriques fonctionnent souvent avec moins de bruit. Cela rend non seulement l’expérience de conduite plus fluide, mais réduit également la pollution sonore dans l’environnement.\n",
    "- Enfin, favoriser le développement technologique : La transition des moteurs thermiques vers les moteurs électriques favorise le développement de la technologie automobile et de l'industrie électronique. Cela pourrait entraîner des innovations significatives dans des domaines tels que le stockage de l’énergie, la technologie des batteries et les systèmes de contrôle."
   ]
  },
  {
   "cell_type": "markdown",
   "id": "ef760819",
   "metadata": {},
   "source": [
    "## Question 4: return a graph that would show the amount of electric vs thermal cars sold per year."
   ]
  },
  {
   "cell_type": "code",
   "execution_count": 11,
   "id": "5b53fc0a",
   "metadata": {},
   "outputs": [
    {
     "data": {
      "image/png": "[encoded data removed]",
      "text/plain": [
       "<Figure size 640x480 with 1 Axes>"
      ]
     },
     "metadata": {},
     "output_type": "display_data"
    }
   ],
   "source": [
    "import matplotlib.pyplot as plt\n",
    "import seaborn as sns\n",
    "%matplotlib inline\n",
    "sns.barplot(data=merged_df, x='Year', y='Sales Volume', hue='Engine Type');"
   ]
  },
  {
   "cell_type": "markdown",
   "id": "42f14662",
   "metadata": {},
   "source": [
    "On constate que les moteurs de véhicules électriques ont toujours été plus vendus que les moteurs thermiques au fil des années, notamment en 2020 et 2021. On sait que selon des rapports réels durant ces 2 années de pandémie de Covid, les ventes d'automobiles Les ventes mondiales d'automobiles ont diminué mais les ventes électriques mondiales ont diminué. les ventes de voitures ont légèrement augmenté. La raison de cette croissance s’explique par le fait que 2020 est une année cible importante pour les normes d’émissions dans les pays européens. Les politiques d’incitation à l’achat de véhicules électriques dans chaque pays se sont également multipliées, stimulant la demande et aidant les acheteurs à prendre des décisions plus rapides.\n",
    "\n",
    "\n",
    "De nombreux grands marchés tels que la France, l'Italie, l'Allemagne et le Royaume-Uni enregistrent des ventes de voitures électriques nettement plus élevées qu'en 2019. Les ventes totales de véhicules électriques en Europe ont dépassé les ventes de véhicules électriques à nouvelle énergie (NEV) en Chine.\n",
    "\n",
    "\n",
    "L’essor des ventes de véhicules électriques en Europe en 2020 s’est poursuivi en 2021. Concrètement, au premier trimestre 2021, près de 200 000 véhicules électriques ont été nouvellement immatriculés sur ce marché. Grâce à cela, les pays européens sont devenus le principal facteur contribuant au développement rapide des véhicules électriques à l’échelle mondiale."
   ]
  },
  {
   "cell_type": "markdown",
   "id": "dfc65fdf",
   "metadata": {},
   "source": [
    "## Description statistique"
   ]
  },
  {
   "cell_type": "code",
   "execution_count": 12,
   "id": "81f63448",
   "metadata": {},
   "outputs": [
    {
     "data": {
      "text/html": [
       "<div>\n",
       "<style scoped>\n",
       "    .dataframe tbody tr th:only-of-type {\n",
       "        vertical-align: middle;\n",
       "    }\n",
       "\n",
       "    .dataframe tbody tr th {\n",
       "        vertical-align: top;\n",
       "    }\n",
       "\n",
       "    .dataframe thead th {\n",
       "        text-align: right;\n",
       "    }\n",
       "</style>\n",
       "<table border=\"1\" class=\"dataframe\">\n",
       "  <thead>\n",
       "    <tr style=\"text-align: right;\">\n",
       "      <th></th>\n",
       "      <th>Year</th>\n",
       "      <th>Price</th>\n",
       "      <th>Review Score</th>\n",
       "      <th>Sales Volume</th>\n",
       "    </tr>\n",
       "  </thead>\n",
       "  <tbody>\n",
       "    <tr>\n",
       "      <th>count</th>\n",
       "      <td>1500.000000</td>\n",
       "      <td>1500.000000</td>\n",
       "      <td>1500.00000</td>\n",
       "      <td>1500.000000</td>\n",
       "    </tr>\n",
       "    <tr>\n",
       "      <th>mean</th>\n",
       "      <td>2015.900000</td>\n",
       "      <td>50644.000000</td>\n",
       "      <td>2.99560</td>\n",
       "      <td>9656.032000</td>\n",
       "    </tr>\n",
       "    <tr>\n",
       "      <th>std</th>\n",
       "      <td>3.842375</td>\n",
       "      <td>17389.043962</td>\n",
       "      <td>1.09059</td>\n",
       "      <td>5103.885728</td>\n",
       "    </tr>\n",
       "    <tr>\n",
       "      <th>min</th>\n",
       "      <td>2010.000000</td>\n",
       "      <td>20000.000000</td>\n",
       "      <td>1.10000</td>\n",
       "      <td>531.000000</td>\n",
       "    </tr>\n",
       "    <tr>\n",
       "      <th>25%</th>\n",
       "      <td>2012.000000</td>\n",
       "      <td>36000.000000</td>\n",
       "      <td>2.10000</td>\n",
       "      <td>5301.250000</td>\n",
       "    </tr>\n",
       "    <tr>\n",
       "      <th>50%</th>\n",
       "      <td>2016.000000</td>\n",
       "      <td>51000.000000</td>\n",
       "      <td>2.90000</td>\n",
       "      <td>9891.000000</td>\n",
       "    </tr>\n",
       "    <tr>\n",
       "      <th>75%</th>\n",
       "      <td>2019.000000</td>\n",
       "      <td>66000.000000</td>\n",
       "      <td>4.00000</td>\n",
       "      <td>13959.750000</td>\n",
       "    </tr>\n",
       "    <tr>\n",
       "      <th>max</th>\n",
       "      <td>2022.000000</td>\n",
       "      <td>80000.000000</td>\n",
       "      <td>4.90000</td>\n",
       "      <td>18486.000000</td>\n",
       "    </tr>\n",
       "  </tbody>\n",
       "</table>\n",
       "</div>"
      ],
      "text/plain": [
       "              Year         Price  Review Score  Sales Volume\n",
       "count  1500.000000   1500.000000    1500.00000   1500.000000\n",
       "mean   2015.900000  50644.000000       2.99560   9656.032000\n",
       "std       3.842375  17389.043962       1.09059   5103.885728\n",
       "min    2010.000000  20000.000000       1.10000    531.000000\n",
       "25%    2012.000000  36000.000000       2.10000   5301.250000\n",
       "50%    2016.000000  51000.000000       2.90000   9891.000000\n",
       "75%    2019.000000  66000.000000       4.00000  13959.750000\n",
       "max    2022.000000  80000.000000       4.90000  18486.000000"
      ]
     },
     "execution_count": 12,
     "metadata": {},
     "output_type": "execute_result"
    }
   ],
   "source": [
    "merged_df.describe()"
   ]
  },
  {
   "cell_type": "markdown",
   "id": "6024c7ae",
   "metadata": {},
   "source": [
    "Ce tableau ci-dessus récapitule les principales statistiques descriptives élémentaires des différentes variables numériques de notre base de données.\n",
    "\n",
    "\n",
    "En effet, la variable *Year* nous montre qu'il y a en moyenne **2015** avec un écart-type petit de **3.8**. Nous pouvons donc voir de petits disparités entre les différentes années.\n",
    "\n",
    "\n",
    "Concernant la variable *Price* les statistiques ci-dessus mettent en évidence également des écarts importants entre les différentes cars. Cela se voit notamment par un écart-type élevé de **17389.043962**. De plus, cette hétérogénéité est démontrée par la différence entre le nombre maximum de prix comptabilisées qui est de **80000** et le minimum qui est de **20000**.\n",
    "\n",
    "\n",
    "Il n'y a pas de grandes fluctuations dans les données avec de variable *Review Score*\n",
    "\n",
    "\n",
    "La variable *Sales Volume* nous semble intéressante car elle apporte comme information le nombre de voitures vendues  par la Make ou le Model. En moyenne il y a **9656**. Néanmoins, comme précédemment il y a toujours de fortes différences entre les voitures car l'écart-type de cette variable est de **5103.8** le maximum de **18486** et le minimum est de **531**.\n",
    "\n",
    "***Conclusion*** : Ces statistiques descriptives mettent en évidence d’importantes variations de prix de vente d’un véhicule à l’autre. Il existe généralement un écart type élevé et la différence entre les valeurs maximales et minimales est grande.\n"
   ]
  },
  {
   "cell_type": "markdown",
   "id": "e5d86ec7",
   "metadata": {},
   "source": [
    "Pour savoir quelles variables indépendantes ont un impact important sur la variable dépendante y= Price, nous devons considérer le modèle de régression linéaire multiple. En effectuant ainsi les ajustements appropriés et en concentrant le développement sur les facteurs affectant la variable de prix de voitures vendues. Ci-dessous, nous utilisons la bibliothèque sklearn en python pour créer et améliorer des modèles de régression linéaire."
   ]
  },
  {
   "cell_type": "code",
   "execution_count": 36,
   "id": "20c7cacd",
   "metadata": {},
   "outputs": [
    {
     "data": {
      "text/html": [
       "<style>#sk-container-id-4 {color: black;}#sk-container-id-4 pre{padding: 0;}#sk-container-id-4 div.sk-toggleable {background-color: white;}#sk-container-id-4 label.sk-toggleable__label {cursor: pointer;display: block;width: 100%;margin-bottom: 0;padding: 0.3em;box-sizing: border-box;text-align: center;}#sk-container-id-4 label.sk-toggleable__label-arrow:before {content: \"▸\";float: left;margin-right: 0.25em;color: #696969;}#sk-container-id-4 label.sk-toggleable__label-arrow:hover:before {color: black;}#sk-container-id-4 div.sk-estimator:hover label.sk-toggleable__label-arrow:before {color: black;}#sk-container-id-4 div.sk-toggleable__content {max-height: 0;max-width: 0;overflow: hidden;text-align: left;background-color: #f0f8ff;}#sk-container-id-4 div.sk-toggleable__content pre {margin: 0.2em;color: black;border-radius: 0.25em;background-color: #f0f8ff;}#sk-container-id-4 input.sk-toggleable__control:checked~div.sk-toggleable__content {max-height: 200px;max-width: 100%;overflow: auto;}#sk-container-id-4 input.sk-toggleable__control:checked~label.sk-toggleable__label-arrow:before {content: \"▾\";}#sk-container-id-4 div.sk-estimator input.sk-toggleable__control:checked~label.sk-toggleable__label {background-color: #d4ebff;}#sk-container-id-4 div.sk-label input.sk-toggleable__control:checked~label.sk-toggleable__label {background-color: #d4ebff;}#sk-container-id-4 input.sk-hidden--visually {border: 0;clip: rect(1px 1px 1px 1px);clip: rect(1px, 1px, 1px, 1px);height: 1px;margin: -1px;overflow: hidden;padding: 0;position: absolute;width: 1px;}#sk-container-id-4 div.sk-estimator {font-family: monospace;background-color: #f0f8ff;border: 1px dotted black;border-radius: 0.25em;box-sizing: border-box;margin-bottom: 0.5em;}#sk-container-id-4 div.sk-estimator:hover {background-color: #d4ebff;}#sk-container-id-4 div.sk-parallel-item::after {content: \"\";width: 100%;border-bottom: 1px solid gray;flex-grow: 1;}#sk-container-id-4 div.sk-label:hover label.sk-toggleable__label {background-color: #d4ebff;}#sk-container-id-4 div.sk-serial::before {content: \"\";position: absolute;border-left: 1px solid gray;box-sizing: border-box;top: 0;bottom: 0;left: 50%;z-index: 0;}#sk-container-id-4 div.sk-serial {display: flex;flex-direction: column;align-items: center;background-color: white;padding-right: 0.2em;padding-left: 0.2em;position: relative;}#sk-container-id-4 div.sk-item {position: relative;z-index: 1;}#sk-container-id-4 div.sk-parallel {display: flex;align-items: stretch;justify-content: center;background-color: white;position: relative;}#sk-container-id-4 div.sk-item::before, #sk-container-id-4 div.sk-parallel-item::before {content: \"\";position: absolute;border-left: 1px solid gray;box-sizing: border-box;top: 0;bottom: 0;left: 50%;z-index: -1;}#sk-container-id-4 div.sk-parallel-item {display: flex;flex-direction: column;z-index: 1;position: relative;background-color: white;}#sk-container-id-4 div.sk-parallel-item:first-child::after {align-self: flex-end;width: 50%;}#sk-container-id-4 div.sk-parallel-item:last-child::after {align-self: flex-start;width: 50%;}#sk-container-id-4 div.sk-parallel-item:only-child::after {width: 0;}#sk-container-id-4 div.sk-dashed-wrapped {border: 1px dashed gray;margin: 0 0.4em 0.5em 0.4em;box-sizing: border-box;padding-bottom: 0.4em;background-color: white;}#sk-container-id-4 div.sk-label label {font-family: monospace;font-weight: bold;display: inline-block;line-height: 1.2em;}#sk-container-id-4 div.sk-label-container {text-align: center;}#sk-container-id-4 div.sk-container {/* jupyter's `normalize.less` sets `[hidden] { display: none; }` but bootstrap.min.css set `[hidden] { display: none !important; }` so we also need the `!important` here to be able to override the default hidden behavior on the sphinx rendered scikit-learn.org. See: https://github.com/scikit-learn/scikit-learn/issues/21755 */display: inline-block !important;position: relative;}#sk-container-id-4 div.sk-text-repr-fallback {display: none;}</style><div id=\"sk-container-id-4\" class=\"sk-top-container\"><div class=\"sk-text-repr-fallback\"><pre>LinearRegression()</pre><b>In a Jupyter environment, please rerun this cell to show the HTML representation or trust the notebook. <br />On GitHub, the HTML representation is unable to render, please try loading this page with nbviewer.org.</b></div><div class=\"sk-container\" hidden><div class=\"sk-item\"><div class=\"sk-estimator sk-toggleable\"><input class=\"sk-toggleable__control sk-hidden--visually\" id=\"sk-estimator-id-4\" type=\"checkbox\" checked><label for=\"sk-estimator-id-4\" class=\"sk-toggleable__label sk-toggleable__label-arrow\">LinearRegression</label><div class=\"sk-toggleable__content\"><pre>LinearRegression()</pre></div></div></div></div></div>"
      ],
      "text/plain": [
       "LinearRegression()"
      ]
     },
     "execution_count": 36,
     "metadata": {},
     "output_type": "execute_result"
    }
   ],
   "source": [
    "from sklearn.linear_model import LinearRegression\n",
    "sklearn_linear_regression = LinearRegression()\n",
    "sklearn_linear_regression"
   ]
  },
  {
   "cell_type": "code",
   "execution_count": 44,
   "id": "a385d629",
   "metadata": {},
   "outputs": [
    {
     "data": {
      "text/html": [
       "<style>#sk-container-id-6 {color: black;}#sk-container-id-6 pre{padding: 0;}#sk-container-id-6 div.sk-toggleable {background-color: white;}#sk-container-id-6 label.sk-toggleable__label {cursor: pointer;display: block;width: 100%;margin-bottom: 0;padding: 0.3em;box-sizing: border-box;text-align: center;}#sk-container-id-6 label.sk-toggleable__label-arrow:before {content: \"▸\";float: left;margin-right: 0.25em;color: #696969;}#sk-container-id-6 label.sk-toggleable__label-arrow:hover:before {color: black;}#sk-container-id-6 div.sk-estimator:hover label.sk-toggleable__label-arrow:before {color: black;}#sk-container-id-6 div.sk-toggleable__content {max-height: 0;max-width: 0;overflow: hidden;text-align: left;background-color: #f0f8ff;}#sk-container-id-6 div.sk-toggleable__content pre {margin: 0.2em;color: black;border-radius: 0.25em;background-color: #f0f8ff;}#sk-container-id-6 input.sk-toggleable__control:checked~div.sk-toggleable__content {max-height: 200px;max-width: 100%;overflow: auto;}#sk-container-id-6 input.sk-toggleable__control:checked~label.sk-toggleable__label-arrow:before {content: \"▾\";}#sk-container-id-6 div.sk-estimator input.sk-toggleable__control:checked~label.sk-toggleable__label {background-color: #d4ebff;}#sk-container-id-6 div.sk-label input.sk-toggleable__control:checked~label.sk-toggleable__label {background-color: #d4ebff;}#sk-container-id-6 input.sk-hidden--visually {border: 0;clip: rect(1px 1px 1px 1px);clip: rect(1px, 1px, 1px, 1px);height: 1px;margin: -1px;overflow: hidden;padding: 0;position: absolute;width: 1px;}#sk-container-id-6 div.sk-estimator {font-family: monospace;background-color: #f0f8ff;border: 1px dotted black;border-radius: 0.25em;box-sizing: border-box;margin-bottom: 0.5em;}#sk-container-id-6 div.sk-estimator:hover {background-color: #d4ebff;}#sk-container-id-6 div.sk-parallel-item::after {content: \"\";width: 100%;border-bottom: 1px solid gray;flex-grow: 1;}#sk-container-id-6 div.sk-label:hover label.sk-toggleable__label {background-color: #d4ebff;}#sk-container-id-6 div.sk-serial::before {content: \"\";position: absolute;border-left: 1px solid gray;box-sizing: border-box;top: 0;bottom: 0;left: 50%;z-index: 0;}#sk-container-id-6 div.sk-serial {display: flex;flex-direction: column;align-items: center;background-color: white;padding-right: 0.2em;padding-left: 0.2em;position: relative;}#sk-container-id-6 div.sk-item {position: relative;z-index: 1;}#sk-container-id-6 div.sk-parallel {display: flex;align-items: stretch;justify-content: center;background-color: white;position: relative;}#sk-container-id-6 div.sk-item::before, #sk-container-id-6 div.sk-parallel-item::before {content: \"\";position: absolute;border-left: 1px solid gray;box-sizing: border-box;top: 0;bottom: 0;left: 50%;z-index: -1;}#sk-container-id-6 div.sk-parallel-item {display: flex;flex-direction: column;z-index: 1;position: relative;background-color: white;}#sk-container-id-6 div.sk-parallel-item:first-child::after {align-self: flex-end;width: 50%;}#sk-container-id-6 div.sk-parallel-item:last-child::after {align-self: flex-start;width: 50%;}#sk-container-id-6 div.sk-parallel-item:only-child::after {width: 0;}#sk-container-id-6 div.sk-dashed-wrapped {border: 1px dashed gray;margin: 0 0.4em 0.5em 0.4em;box-sizing: border-box;padding-bottom: 0.4em;background-color: white;}#sk-container-id-6 div.sk-label label {font-family: monospace;font-weight: bold;display: inline-block;line-height: 1.2em;}#sk-container-id-6 div.sk-label-container {text-align: center;}#sk-container-id-6 div.sk-container {/* jupyter's `normalize.less` sets `[hidden] { display: none; }` but bootstrap.min.css set `[hidden] { display: none !important; }` so we also need the `!important` here to be able to override the default hidden behavior on the sphinx rendered scikit-learn.org. See: https://github.com/scikit-learn/scikit-learn/issues/21755 */display: inline-block !important;position: relative;}#sk-container-id-6 div.sk-text-repr-fallback {display: none;}</style><div id=\"sk-container-id-6\" class=\"sk-top-container\"><div class=\"sk-text-repr-fallback\"><pre>LinearRegression()</pre><b>In a Jupyter environment, please rerun this cell to show the HTML representation or trust the notebook. <br />On GitHub, the HTML representation is unable to render, please try loading this page with nbviewer.org.</b></div><div class=\"sk-container\" hidden><div class=\"sk-item\"><div class=\"sk-estimator sk-toggleable\"><input class=\"sk-toggleable__control sk-hidden--visually\" id=\"sk-estimator-id-6\" type=\"checkbox\" checked><label for=\"sk-estimator-id-6\" class=\"sk-toggleable__label sk-toggleable__label-arrow\">LinearRegression</label><div class=\"sk-toggleable__content\"><pre>LinearRegression()</pre></div></div></div></div></div>"
      ],
      "text/plain": [
       "LinearRegression()"
      ]
     },
     "execution_count": 44,
     "metadata": {},
     "output_type": "execute_result"
    }
   ],
   "source": [
    "# Créer une matrice de fonctionnalités (X) et une variable (y)\n",
    "# X sont les variables indépendantes et y sont les variables dépendantes\n",
    "X = merged_df[['Review Score', 'Sales Volume']]\n",
    "y = merged_df['Price']\n",
    "sklearn_linear_regression.fit(X, y)"
   ]
  },
  {
   "cell_type": "code",
   "execution_count": 45,
   "id": "b4aad493",
   "metadata": {},
   "outputs": [
    {
     "data": {
      "text/plain": [
       "array([ 2.06826765e+02, -1.11222943e-02])"
      ]
     },
     "execution_count": 45,
     "metadata": {},
     "output_type": "execute_result"
    }
   ],
   "source": [
    "sklearn_linear_regression.coef_"
   ]
  },
  {
   "cell_type": "markdown",
   "id": "77f501fc",
   "metadata": {},
   "source": [
    "Review Score: Ce coefficient (2.06) montre l'impact du nombre Review score sur le prix (Price). Cela pourrait signifier qu’une légère augmentation du nombre d’abonnés pourrait entraîner une augmentation de prix.\n",
    "Sales Volume : ce coefficient (-1.11222943e-02) indique l'impact de prix sur le nombre de voitures vendues. Cela peut être interprété comme une augmentation d'une unité de prix peut entraîner une légère diminution du Sale Volume (-1.11222943e-02).\n",
    "Cela est tout à fait vrai, car lorsque le prix d'un certain produit augmente et que ce produit a un score d'évaluation élevé, cela stimulera toujours la demande et davantage de personnes voudront acheter ce produit."
   ]
  },
  {
   "cell_type": "markdown",
   "id": "4e349934",
   "metadata": {},
   "source": [
    "**Pour résumer**, on constate qu’il n’y a pas de grande différence de prix entre les pays d’Europe. Aujourd’hui, la plupart des pays privilégient les véhicules à moteur électrique plutôt que les véhicules à moteur thermique. Cependant, la plupart des modèles de voitures se concentrent sur le marché français. Proposer une variété de véhicules peut attirer de nouveaux clients et élargir le marché de consommation des véhicules électriques. Le développement de plusieurs modèles de véhicules peut soutenir le développement d’infrastructures de recharge et de systèmes de support associés, notamment des têtes de recharge et une technologie de recharge rapide. Cela aide les entreprises à optimiser les opportunités de marché mais également à mieux s'adapter aux fluctuations de la demande et aux tendances de consommation dans le secteur des voitures électriques. Donc,  l'entreprise peut donc avoir une orientation pour se développer sur le marché français."
   ]
  },
  {
   "cell_type": "code",
   "execution_count": null,
   "id": "fec8c62c",
   "metadata": {},
   "outputs": [],
   "source": []
  }
 ],
 "metadata": {
  "kernelspec": {
   "display_name": "Python 3 (ipykernel)",
   "language": "python",
   "name": "python3"
  },
  "language_info": {
   "codemirror_mode": {
    "name": "ipython",
    "version": 3
   },
   "file_extension": ".py",
   "mimetype": "text/x-python",
   "name": "python",
   "nbconvert_exporter": "python",
   "pygments_lexer": "ipython3",
   "version": "3.11.4"
  }
 },
 "nbformat": 4,
 "nbformat_minor": 5
}
